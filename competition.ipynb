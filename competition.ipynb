{
 "cells": [
  {
   "cell_type": "code",
   "execution_count": 29,
   "id": "initial_id",
   "metadata": {
    "collapsed": true,
    "ExecuteTime": {
     "end_time": "2023-12-19T08:08:22.179739100Z",
     "start_time": "2023-12-19T08:08:22.006863300Z"
    }
   },
   "outputs": [],
   "source": [
    "import pandas as pd\n",
    "import numpy as np\n",
    "from helpers import *\n",
    "\n",
    "%load_ext autoreload\n",
    "%autoreload 2"
   ]
  },
  {
   "cell_type": "code",
   "execution_count": 14,
   "outputs": [],
   "source": [
    "X = pd.read_csv(\"dataset/SensingMatrix_X.csv\", header = None)\n",
    "y = pd.read_csv(\"dataset/Measurements_y.csv\", header = None)"
   ],
   "metadata": {
    "collapsed": false,
    "ExecuteTime": {
     "end_time": "2023-12-19T07:47:00.412403Z",
     "start_time": "2023-12-19T07:46:50.056013600Z"
    }
   },
   "id": "7b6e5ec1428a1f4d"
  },
  {
   "cell_type": "code",
   "execution_count": 15,
   "outputs": [],
   "source": [
    "# put both X and Y to numpy arrays\n",
    "X = X.values\n",
    "y = y.values"
   ],
   "metadata": {
    "collapsed": false,
    "ExecuteTime": {
     "end_time": "2023-12-19T07:47:00.427998400Z",
     "start_time": "2023-12-19T07:47:00.412403Z"
    }
   },
   "id": "ae96550be6e025d0"
  },
  {
   "cell_type": "code",
   "execution_count": 30,
   "outputs": [],
   "source": [
    "#Initialization\n",
    "d = 128*128\n",
    "m = len(y)\n",
    "num_non_zero = 150\n",
    "beta = 0.50\n",
    "sigma = 1\n",
    "num_iter = 100*d\n",
    "ksi = np.random.normal(0, sigma, size = m)\n",
    "\n",
    "\n",
    "theta_initial = np.zeros(d)\n",
    "theta_initial[:num_non_zero] = np.random.choice([1, 2], size=150)\n",
    "\n",
    "np.random.shuffle(theta_initial)"
   ],
   "metadata": {
    "collapsed": false,
    "ExecuteTime": {
     "end_time": "2023-12-19T08:08:29.485886600Z",
     "start_time": "2023-12-19T08:08:29.391336100Z"
    }
   },
   "id": "e1f3121b2d136261"
  },
  {
   "cell_type": "code",
   "execution_count": null,
   "outputs": [
    {
     "name": "stdout",
     "output_type": "stream",
     "text": [
      "m = 1200, beta = 0.5, Iteration #: 0, f_theta = 914845289.5843898\n"
     ]
    }
   ],
   "source": [
    "theta_predicted = mh_competition(X, theta_initial, y, beta, num_iter)"
   ],
   "metadata": {
    "collapsed": false,
    "is_executing": true,
    "ExecuteTime": {
     "start_time": "2023-12-19T08:08:51.412293600Z"
    }
   },
   "id": "e61bd82a468cd70e"
  },
  {
   "cell_type": "code",
   "execution_count": null,
   "outputs": [],
   "source": [],
   "metadata": {
    "collapsed": false
   },
   "id": "e8d76cd4bc150b44"
  }
 ],
 "metadata": {
  "kernelspec": {
   "display_name": "Python 3",
   "language": "python",
   "name": "python3"
  },
  "language_info": {
   "codemirror_mode": {
    "name": "ipython",
    "version": 2
   },
   "file_extension": ".py",
   "mimetype": "text/x-python",
   "name": "python",
   "nbconvert_exporter": "python",
   "pygments_lexer": "ipython2",
   "version": "2.7.6"
  }
 },
 "nbformat": 4,
 "nbformat_minor": 5
}
