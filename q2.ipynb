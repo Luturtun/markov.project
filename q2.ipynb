{
 "cells": [
  {
   "cell_type": "code",
   "execution_count": 58,
   "id": "initial_id",
   "metadata": {
    "collapsed": true,
    "ExecuteTime": {
     "end_time": "2023-12-01T22:55:00.724430300Z",
     "start_time": "2023-12-01T22:55:00.620709Z"
    }
   },
   "outputs": [
    {
     "name": "stdout",
     "output_type": "stream",
     "text": [
      "The autoreload extension is already loaded. To reload it, use:\n",
      "  %reload_ext autoreload\n"
     ]
    }
   ],
   "source": [
    "import random\n",
    "import numpy as np\n",
    "from helpers import *\n",
    "import pandas as pd\n",
    "%load_ext autoreload\n",
    "%autoreload 2"
   ]
  },
  {
   "cell_type": "markdown",
   "source": [
    "TASK 2.3"
   ],
   "metadata": {
    "collapsed": false
   },
   "id": "23e0de40f32968e3"
  },
  {
   "cell_type": "code",
   "execution_count": 59,
   "outputs": [],
   "source": [
    "#Initialization\n",
    "d = 2500\n",
    "beta = 1\n",
    "sigma = 1\n",
    "num_iter = 100*d\n",
    "np.random.seed(2)\n",
    "\n",
    "# Create a vector with d/100 non-zero values\n",
    "num_non_zero = d // 100\n",
    "theta_true = np.zeros(d)\n",
    "theta_true[:num_non_zero] = 1\n",
    "\n",
    "theta_initial = np.zeros(d)\n",
    "theta_initial[:num_non_zero] = 1\n",
    "\n",
    "# Shuffle the array to randomize the positions of the non-zero values\n",
    "np.random.shuffle(theta_true)\n",
    "np.random.shuffle(theta_initial)"
   ],
   "metadata": {
    "collapsed": false,
    "ExecuteTime": {
     "end_time": "2023-12-01T22:55:01.773631400Z",
     "start_time": "2023-12-01T22:55:01.612064800Z"
    }
   },
   "id": "6a5e3e3db106dc23"
  },
  {
   "cell_type": "code",
   "execution_count": 60,
   "outputs": [],
   "source": [
    "all_m_list = np.linspace(1, 301, 31).astype(int)\n",
    "all_m_list = all_m_list[20:26]\n",
    "all_beta_list = [0.001, 0.005, 0.010, 0.050, 0.1, 0.25, 0.50, 0.75, 1, 5]"
   ],
   "metadata": {
    "collapsed": false,
    "ExecuteTime": {
     "end_time": "2023-12-01T22:55:18.520465Z",
     "start_time": "2023-12-01T22:55:18.434692900Z"
    }
   },
   "id": "3a490f6256e6bc99"
  },
  {
   "cell_type": "code",
   "execution_count": 61,
   "outputs": [
    {
     "data": {
      "text/plain": "array([201, 211, 221, 231, 241, 251])"
     },
     "execution_count": 61,
     "metadata": {},
     "output_type": "execute_result"
    }
   ],
   "source": [
    "all_m_list"
   ],
   "metadata": {
    "collapsed": false,
    "ExecuteTime": {
     "end_time": "2023-12-01T22:55:18.955955600Z",
     "start_time": "2023-12-01T22:55:18.843256Z"
    }
   },
   "id": "d29aae74e3e0d681"
  },
  {
   "cell_type": "code",
   "execution_count": 63,
   "outputs": [],
   "source": [
    "all_m_list = [301]"
   ],
   "metadata": {
    "collapsed": false,
    "ExecuteTime": {
     "end_time": "2023-12-01T22:55:29.310045600Z",
     "start_time": "2023-12-01T22:55:29.212306300Z"
    }
   },
   "id": "cd789420b065aee"
  },
  {
   "cell_type": "code",
   "execution_count": 64,
   "outputs": [],
   "source": [
    "mse_matrix_q2 = np.zeros((len(all_m_list), len(all_beta_list)))"
   ],
   "metadata": {
    "collapsed": false,
    "ExecuteTime": {
     "end_time": "2023-12-01T22:55:29.731010900Z",
     "start_time": "2023-12-01T22:55:29.621264400Z"
    }
   },
   "id": "96dd695dd5892196"
  },
  {
   "cell_type": "code",
   "execution_count": 65,
   "outputs": [
    {
     "name": "stdout",
     "output_type": "stream",
     "text": [
      "m = 301, beta = 0.001, Iteration #: 0, f_theta = 14930.652972275526\n",
      "m = 301, beta = 0.001, Iteration #: 5000, f_theta = 14792.514442256544\n",
      "m = 301, beta = 0.001, Iteration #: 10000, f_theta = 13795.119927752774\n",
      "m = 301, beta = 0.001, Iteration #: 15000, f_theta = 15506.551810746209\n",
      "m = 301, beta = 0.001, Iteration #: 20000, f_theta = 14451.627451264325\n",
      "m = 301, beta = 0.001, Iteration #: 25000, f_theta = 13973.827377602907\n",
      "m = 301, beta = 0.001, Iteration #: 30000, f_theta = 16863.06467227344\n",
      "m = 301, beta = 0.001, Iteration #: 35000, f_theta = 13898.764163525531\n",
      "m = 301, beta = 0.001, Iteration #: 40000, f_theta = 15014.491955986297\n",
      "m = 301, beta = 0.001, Iteration #: 45000, f_theta = 14580.778243180452\n",
      "m = 301, beta = 0.001, Iteration #: 50000, f_theta = 14581.696347063596\n",
      "m = 301, beta = 0.001, Iteration #: 55000, f_theta = 13333.291075826264\n",
      "m = 301, beta = 0.001, Iteration #: 60000, f_theta = 14652.992148318153\n",
      "m = 301, beta = 0.001, Iteration #: 65000, f_theta = 14983.865180351862\n",
      "m = 301, beta = 0.001, Iteration #: 70000, f_theta = 13363.759127715994\n",
      "m = 301, beta = 0.001, Iteration #: 75000, f_theta = 13123.946183305832\n",
      "m = 301, beta = 0.001, Iteration #: 80000, f_theta = 17067.96859575742\n",
      "m = 301, beta = 0.001, Iteration #: 85000, f_theta = 13909.417063162731\n",
      "m = 301, beta = 0.001, Iteration #: 90000, f_theta = 13435.803810691405\n",
      "m = 301, beta = 0.001, Iteration #: 95000, f_theta = 14359.94498379965\n",
      "m = 301, beta = 0.001, Iteration #: 100000, f_theta = 12331.498699587908\n",
      "m = 301, beta = 0.001, Iteration #: 105000, f_theta = 12743.801415187245\n",
      "m = 301, beta = 0.001, Iteration #: 110000, f_theta = 14707.707752198181\n",
      "m = 301, beta = 0.001, Iteration #: 115000, f_theta = 14244.087296657981\n",
      "m = 301, beta = 0.001, Iteration #: 120000, f_theta = 13930.985269239645\n",
      "m = 301, beta = 0.001, Iteration #: 125000, f_theta = 13545.32535167578\n",
      "m = 301, beta = 0.001, Iteration #: 130000, f_theta = 15428.102696928023\n",
      "m = 301, beta = 0.001, Iteration #: 135000, f_theta = 16267.309447933594\n",
      "m = 301, beta = 0.001, Iteration #: 140000, f_theta = 12879.137931962452\n",
      "m = 301, beta = 0.001, Iteration #: 145000, f_theta = 14027.171114435208\n",
      "m = 301, beta = 0.001, Iteration #: 150000, f_theta = 16524.944780772374\n",
      "m = 301, beta = 0.001, Iteration #: 155000, f_theta = 15594.144207797686\n",
      "m = 301, beta = 0.001, Iteration #: 160000, f_theta = 15560.477560768251\n",
      "m = 301, beta = 0.001, Iteration #: 165000, f_theta = 16460.833110575513\n",
      "m = 301, beta = 0.001, Iteration #: 170000, f_theta = 14974.443793712842\n",
      "m = 301, beta = 0.001, Iteration #: 175000, f_theta = 14739.93534050819\n",
      "m = 301, beta = 0.001, Iteration #: 180000, f_theta = 11935.852244614845\n",
      "m = 301, beta = 0.001, Iteration #: 185000, f_theta = 15232.399692481536\n",
      "m = 301, beta = 0.001, Iteration #: 190000, f_theta = 14844.769339983472\n",
      "m = 301, beta = 0.001, Iteration #: 195000, f_theta = 12654.794943326106\n",
      "m = 301, beta = 0.001, Iteration #: 200000, f_theta = 16521.933988286943\n",
      "m = 301, beta = 0.001, Iteration #: 205000, f_theta = 15204.785099420931\n",
      "m = 301, beta = 0.001, Iteration #: 210000, f_theta = 13836.546312203687\n",
      "m = 301, beta = 0.001, Iteration #: 215000, f_theta = 16084.698584554397\n",
      "m = 301, beta = 0.001, Iteration #: 220000, f_theta = 13425.64860872341\n",
      "m = 301, beta = 0.001, Iteration #: 225000, f_theta = 14069.423525673163\n",
      "m = 301, beta = 0.001, Iteration #: 230000, f_theta = 14909.73025714156\n",
      "m = 301, beta = 0.001, Iteration #: 235000, f_theta = 16694.094439816316\n",
      "m = 301, beta = 0.001, Iteration #: 240000, f_theta = 15959.896920182022\n",
      "m = 301, beta = 0.001, Iteration #: 245000, f_theta = 15737.500633006868\n",
      "\n",
      "----MSE IS: 0.04 ----\n",
      "\n",
      "m = 301, beta = 0.005, Iteration #: 0, f_theta = 13506.870420782638\n",
      "m = 301, beta = 0.005, Iteration #: 5000, f_theta = 10952.285017309036\n",
      "m = 301, beta = 0.005, Iteration #: 10000, f_theta = 10638.124336071478\n",
      "m = 301, beta = 0.005, Iteration #: 15000, f_theta = 8377.835103823903\n",
      "m = 301, beta = 0.005, Iteration #: 20000, f_theta = 10980.152842687845\n",
      "m = 301, beta = 0.005, Iteration #: 25000, f_theta = 10114.7772552805\n",
      "m = 301, beta = 0.005, Iteration #: 30000, f_theta = 9799.42493483468\n",
      "m = 301, beta = 0.005, Iteration #: 35000, f_theta = 11489.409369143586\n",
      "m = 301, beta = 0.005, Iteration #: 40000, f_theta = 10126.06779471911\n",
      "m = 301, beta = 0.005, Iteration #: 45000, f_theta = 10527.184985223312\n",
      "m = 301, beta = 0.005, Iteration #: 50000, f_theta = 9551.818779933492\n",
      "m = 301, beta = 0.005, Iteration #: 55000, f_theta = 10742.661317788179\n",
      "m = 301, beta = 0.005, Iteration #: 60000, f_theta = 10237.12382691283\n",
      "m = 301, beta = 0.005, Iteration #: 65000, f_theta = 11058.45886663698\n",
      "m = 301, beta = 0.005, Iteration #: 70000, f_theta = 10477.338983028336\n",
      "m = 301, beta = 0.005, Iteration #: 75000, f_theta = 11765.839762518863\n",
      "m = 301, beta = 0.005, Iteration #: 80000, f_theta = 11446.872018559236\n",
      "m = 301, beta = 0.005, Iteration #: 85000, f_theta = 10611.055256362699\n",
      "m = 301, beta = 0.005, Iteration #: 90000, f_theta = 9936.85026856097\n",
      "m = 301, beta = 0.005, Iteration #: 95000, f_theta = 9728.977501664438\n",
      "m = 301, beta = 0.005, Iteration #: 100000, f_theta = 11979.628543803832\n",
      "m = 301, beta = 0.005, Iteration #: 105000, f_theta = 11547.460995580172\n",
      "m = 301, beta = 0.005, Iteration #: 110000, f_theta = 9798.6996184413\n",
      "m = 301, beta = 0.005, Iteration #: 115000, f_theta = 10597.411256120693\n",
      "m = 301, beta = 0.005, Iteration #: 120000, f_theta = 11409.886121923493\n",
      "m = 301, beta = 0.005, Iteration #: 125000, f_theta = 9529.237836385513\n",
      "m = 301, beta = 0.005, Iteration #: 130000, f_theta = 9762.287706981802\n",
      "m = 301, beta = 0.005, Iteration #: 135000, f_theta = 10495.915242569446\n",
      "m = 301, beta = 0.005, Iteration #: 140000, f_theta = 8813.88700372319\n",
      "m = 301, beta = 0.005, Iteration #: 145000, f_theta = 8766.769298785619\n",
      "m = 301, beta = 0.005, Iteration #: 150000, f_theta = 10507.341814652516\n",
      "m = 301, beta = 0.005, Iteration #: 155000, f_theta = 9117.022932247888\n",
      "m = 301, beta = 0.005, Iteration #: 160000, f_theta = 9072.356375879834\n",
      "m = 301, beta = 0.005, Iteration #: 165000, f_theta = 9101.438553237957\n",
      "m = 301, beta = 0.005, Iteration #: 170000, f_theta = 10102.279930060728\n",
      "m = 301, beta = 0.005, Iteration #: 175000, f_theta = 9913.362891013054\n",
      "m = 301, beta = 0.005, Iteration #: 180000, f_theta = 11577.756857267063\n",
      "m = 301, beta = 0.005, Iteration #: 185000, f_theta = 10076.215480053816\n",
      "m = 301, beta = 0.005, Iteration #: 190000, f_theta = 11111.194419278407\n",
      "m = 301, beta = 0.005, Iteration #: 195000, f_theta = 12260.660431770963\n",
      "m = 301, beta = 0.005, Iteration #: 200000, f_theta = 8985.875750544126\n",
      "m = 301, beta = 0.005, Iteration #: 205000, f_theta = 10564.737403116444\n",
      "m = 301, beta = 0.005, Iteration #: 210000, f_theta = 9547.776557085963\n",
      "m = 301, beta = 0.005, Iteration #: 215000, f_theta = 8520.37162697778\n",
      "m = 301, beta = 0.005, Iteration #: 220000, f_theta = 10693.012730836315\n",
      "m = 301, beta = 0.005, Iteration #: 225000, f_theta = 11455.941397303945\n",
      "m = 301, beta = 0.005, Iteration #: 230000, f_theta = 10448.849098142518\n",
      "m = 301, beta = 0.005, Iteration #: 235000, f_theta = 10384.51668080789\n",
      "m = 301, beta = 0.005, Iteration #: 240000, f_theta = 10247.432686368831\n",
      "m = 301, beta = 0.005, Iteration #: 245000, f_theta = 10407.301841602406\n",
      "\n",
      "----MSE IS: 0.032 ----\n",
      "\n",
      "m = 301, beta = 0.01, Iteration #: 0, f_theta = 13894.764467341336\n",
      "m = 301, beta = 0.01, Iteration #: 5000, f_theta = 6057.913392092982\n",
      "m = 301, beta = 0.01, Iteration #: 10000, f_theta = 6935.343452820557\n",
      "m = 301, beta = 0.01, Iteration #: 15000, f_theta = 8025.188027482884\n",
      "m = 301, beta = 0.01, Iteration #: 20000, f_theta = 7235.573647861123\n",
      "m = 301, beta = 0.01, Iteration #: 25000, f_theta = 7241.282046692124\n",
      "m = 301, beta = 0.01, Iteration #: 30000, f_theta = 6147.004017174677\n",
      "m = 301, beta = 0.01, Iteration #: 35000, f_theta = 6877.8381464201175\n",
      "m = 301, beta = 0.01, Iteration #: 40000, f_theta = 6521.208047038983\n",
      "m = 301, beta = 0.01, Iteration #: 45000, f_theta = 5763.89056151598\n",
      "m = 301, beta = 0.01, Iteration #: 50000, f_theta = 8119.236447121371\n",
      "m = 301, beta = 0.01, Iteration #: 55000, f_theta = 6124.238444503213\n",
      "m = 301, beta = 0.01, Iteration #: 60000, f_theta = 6348.292118678652\n",
      "m = 301, beta = 0.01, Iteration #: 65000, f_theta = 6831.284257592462\n",
      "m = 301, beta = 0.01, Iteration #: 70000, f_theta = 5778.24113802389\n",
      "m = 301, beta = 0.01, Iteration #: 75000, f_theta = 6532.128659624379\n",
      "m = 301, beta = 0.01, Iteration #: 80000, f_theta = 7455.568709991821\n",
      "m = 301, beta = 0.01, Iteration #: 85000, f_theta = 5577.053934998301\n",
      "m = 301, beta = 0.01, Iteration #: 90000, f_theta = 6360.122085214614\n",
      "m = 301, beta = 0.01, Iteration #: 95000, f_theta = 6787.5771988175875\n",
      "m = 301, beta = 0.01, Iteration #: 100000, f_theta = 6418.655986450873\n",
      "m = 301, beta = 0.01, Iteration #: 105000, f_theta = 6257.731734063813\n",
      "m = 301, beta = 0.01, Iteration #: 110000, f_theta = 7617.857780109621\n",
      "m = 301, beta = 0.01, Iteration #: 115000, f_theta = 6662.607710474757\n",
      "m = 301, beta = 0.01, Iteration #: 120000, f_theta = 5895.288168100159\n",
      "m = 301, beta = 0.01, Iteration #: 125000, f_theta = 7600.955030654918\n",
      "m = 301, beta = 0.01, Iteration #: 130000, f_theta = 6814.540904723421\n",
      "m = 301, beta = 0.01, Iteration #: 135000, f_theta = 6211.374766168713\n",
      "m = 301, beta = 0.01, Iteration #: 140000, f_theta = 6567.080782746989\n",
      "m = 301, beta = 0.01, Iteration #: 145000, f_theta = 6497.653624429947\n",
      "m = 301, beta = 0.01, Iteration #: 150000, f_theta = 6931.080579711241\n",
      "m = 301, beta = 0.01, Iteration #: 155000, f_theta = 6427.059382002861\n",
      "m = 301, beta = 0.01, Iteration #: 160000, f_theta = 6596.0522936438865\n",
      "m = 301, beta = 0.01, Iteration #: 165000, f_theta = 7185.259648687586\n",
      "m = 301, beta = 0.01, Iteration #: 170000, f_theta = 6063.0840159503305\n",
      "m = 301, beta = 0.01, Iteration #: 175000, f_theta = 6162.606671626596\n",
      "m = 301, beta = 0.01, Iteration #: 180000, f_theta = 6366.481416106215\n",
      "m = 301, beta = 0.01, Iteration #: 185000, f_theta = 6127.14260861265\n",
      "m = 301, beta = 0.01, Iteration #: 190000, f_theta = 6219.338926475459\n",
      "m = 301, beta = 0.01, Iteration #: 195000, f_theta = 8049.35949613231\n",
      "m = 301, beta = 0.01, Iteration #: 200000, f_theta = 5576.486443399022\n",
      "m = 301, beta = 0.01, Iteration #: 205000, f_theta = 6905.138833126454\n",
      "m = 301, beta = 0.01, Iteration #: 210000, f_theta = 6680.792540758624\n",
      "m = 301, beta = 0.01, Iteration #: 215000, f_theta = 6390.377530413939\n",
      "m = 301, beta = 0.01, Iteration #: 220000, f_theta = 6498.34100383599\n",
      "m = 301, beta = 0.01, Iteration #: 225000, f_theta = 7540.624625368418\n",
      "m = 301, beta = 0.01, Iteration #: 230000, f_theta = 6632.020749118254\n",
      "m = 301, beta = 0.01, Iteration #: 235000, f_theta = 7431.7782328882495\n",
      "m = 301, beta = 0.01, Iteration #: 240000, f_theta = 6321.073580518299\n",
      "m = 301, beta = 0.01, Iteration #: 245000, f_theta = 8110.476426376932\n",
      "\n",
      "----MSE IS: 0.0352 ----\n",
      "\n",
      "m = 301, beta = 0.05, Iteration #: 0, f_theta = 15309.408175360652\n",
      "m = 301, beta = 0.05, Iteration #: 5000, f_theta = 3574.89643979031\n",
      "m = 301, beta = 0.05, Iteration #: 10000, f_theta = 2485.889628532457\n",
      "m = 301, beta = 0.05, Iteration #: 15000, f_theta = 1862.7933457809513\n",
      "m = 301, beta = 0.05, Iteration #: 20000, f_theta = 1754.2414894402004\n",
      "m = 301, beta = 0.05, Iteration #: 25000, f_theta = 1755.6541775847732\n",
      "m = 301, beta = 0.05, Iteration #: 30000, f_theta = 1844.2951633718717\n",
      "m = 301, beta = 0.05, Iteration #: 35000, f_theta = 1602.1141104727835\n",
      "m = 301, beta = 0.05, Iteration #: 40000, f_theta = 1476.8769620566668\n",
      "m = 301, beta = 0.05, Iteration #: 45000, f_theta = 1185.9246383422467\n",
      "m = 301, beta = 0.05, Iteration #: 50000, f_theta = 796.5770163653376\n",
      "m = 301, beta = 0.05, Iteration #: 55000, f_theta = 705.0909494683995\n",
      "m = 301, beta = 0.05, Iteration #: 60000, f_theta = 732.3105234439557\n",
      "m = 301, beta = 0.05, Iteration #: 65000, f_theta = 797.9655907157633\n",
      "m = 301, beta = 0.05, Iteration #: 70000, f_theta = 751.3427565718144\n",
      "m = 301, beta = 0.05, Iteration #: 75000, f_theta = 894.9482258464524\n",
      "m = 301, beta = 0.05, Iteration #: 80000, f_theta = 750.2467747050474\n",
      "m = 301, beta = 0.05, Iteration #: 85000, f_theta = 710.8667644369996\n",
      "m = 301, beta = 0.05, Iteration #: 90000, f_theta = 709.9550142650528\n",
      "m = 301, beta = 0.05, Iteration #: 95000, f_theta = 731.3583460793\n",
      "m = 301, beta = 0.05, Iteration #: 100000, f_theta = 735.1699655723824\n",
      "m = 301, beta = 0.05, Iteration #: 105000, f_theta = 771.510416188009\n",
      "m = 301, beta = 0.05, Iteration #: 110000, f_theta = 752.3785318940716\n",
      "m = 301, beta = 0.05, Iteration #: 115000, f_theta = 749.6529451942661\n",
      "m = 301, beta = 0.05, Iteration #: 120000, f_theta = 717.2696389565081\n",
      "m = 301, beta = 0.05, Iteration #: 125000, f_theta = 711.2500542677786\n",
      "m = 301, beta = 0.05, Iteration #: 130000, f_theta = 710.8667644369996\n",
      "m = 301, beta = 0.05, Iteration #: 135000, f_theta = 741.9661935175885\n",
      "m = 301, beta = 0.05, Iteration #: 140000, f_theta = 767.4196134078752\n",
      "m = 301, beta = 0.05, Iteration #: 145000, f_theta = 709.7327907032936\n",
      "m = 301, beta = 0.05, Iteration #: 150000, f_theta = 723.1779352467893\n",
      "m = 301, beta = 0.05, Iteration #: 155000, f_theta = 689.9880371639852\n",
      "m = 301, beta = 0.05, Iteration #: 160000, f_theta = 689.9880371639852\n",
      "m = 301, beta = 0.05, Iteration #: 165000, f_theta = 725.0248306008132\n",
      "m = 301, beta = 0.05, Iteration #: 170000, f_theta = 728.119733632876\n",
      "m = 301, beta = 0.05, Iteration #: 175000, f_theta = 705.8955776562321\n",
      "m = 301, beta = 0.05, Iteration #: 180000, f_theta = 705.8955776562321\n",
      "m = 301, beta = 0.05, Iteration #: 185000, f_theta = 709.7327907032936\n",
      "m = 301, beta = 0.05, Iteration #: 190000, f_theta = 830.5047732834436\n",
      "m = 301, beta = 0.05, Iteration #: 195000, f_theta = 714.744192652557\n",
      "m = 301, beta = 0.05, Iteration #: 200000, f_theta = 791.8059178396734\n",
      "m = 301, beta = 0.05, Iteration #: 205000, f_theta = 741.4309568331839\n",
      "m = 301, beta = 0.05, Iteration #: 210000, f_theta = 311.14591343634913\n",
      "m = 301, beta = 0.05, Iteration #: 215000, f_theta = 311.14591343634913\n",
      "m = 301, beta = 0.05, Iteration #: 220000, f_theta = 311.14591343634913\n",
      "m = 301, beta = 0.05, Iteration #: 225000, f_theta = 311.14591343634913\n",
      "m = 301, beta = 0.05, Iteration #: 230000, f_theta = 311.14591343634913\n",
      "m = 301, beta = 0.05, Iteration #: 235000, f_theta = 311.14591343634913\n",
      "m = 301, beta = 0.05, Iteration #: 240000, f_theta = 311.14591343634913\n",
      "m = 301, beta = 0.05, Iteration #: 245000, f_theta = 311.14591343634913\n",
      "\n",
      "----MSE IS: 0.0 ----\n",
      "\n",
      "m = 301, beta = 0.1, Iteration #: 0, f_theta = 14895.432488326664\n",
      "m = 301, beta = 0.1, Iteration #: 5000, f_theta = 3870.436907667943\n",
      "m = 301, beta = 0.1, Iteration #: 10000, f_theta = 3029.310726168703\n",
      "m = 301, beta = 0.1, Iteration #: 15000, f_theta = 2800.481001461084\n",
      "m = 301, beta = 0.1, Iteration #: 20000, f_theta = 2317.4455441341006\n",
      "m = 301, beta = 0.1, Iteration #: 25000, f_theta = 2275.579039012386\n",
      "m = 301, beta = 0.1, Iteration #: 30000, f_theta = 2152.538282327404\n",
      "m = 301, beta = 0.1, Iteration #: 35000, f_theta = 1855.7761701899587\n",
      "m = 301, beta = 0.1, Iteration #: 40000, f_theta = 1654.0361784716756\n",
      "m = 301, beta = 0.1, Iteration #: 45000, f_theta = 1242.2913505060583\n",
      "m = 301, beta = 0.1, Iteration #: 50000, f_theta = 1242.2913505060583\n",
      "m = 301, beta = 0.1, Iteration #: 55000, f_theta = 1242.1971446408736\n",
      "m = 301, beta = 0.1, Iteration #: 60000, f_theta = 1218.8048902671783\n",
      "m = 301, beta = 0.1, Iteration #: 65000, f_theta = 1194.0358864397099\n",
      "m = 301, beta = 0.1, Iteration #: 70000, f_theta = 1051.069725212189\n",
      "m = 301, beta = 0.1, Iteration #: 75000, f_theta = 716.1218466680613\n",
      "m = 301, beta = 0.1, Iteration #: 80000, f_theta = 687.8974734839908\n",
      "m = 301, beta = 0.1, Iteration #: 85000, f_theta = 687.8974734839908\n",
      "m = 301, beta = 0.1, Iteration #: 90000, f_theta = 658.7377676195906\n",
      "m = 301, beta = 0.1, Iteration #: 95000, f_theta = 658.7377676195906\n",
      "m = 301, beta = 0.1, Iteration #: 100000, f_theta = 658.7377676195906\n",
      "m = 301, beta = 0.1, Iteration #: 105000, f_theta = 658.7377676195906\n",
      "m = 301, beta = 0.1, Iteration #: 110000, f_theta = 633.6325778346272\n",
      "m = 301, beta = 0.1, Iteration #: 115000, f_theta = 633.6325778346272\n",
      "m = 301, beta = 0.1, Iteration #: 120000, f_theta = 633.6325778346272\n",
      "m = 301, beta = 0.1, Iteration #: 125000, f_theta = 633.6325778346272\n",
      "m = 301, beta = 0.1, Iteration #: 130000, f_theta = 305.2248988291823\n",
      "m = 301, beta = 0.1, Iteration #: 135000, f_theta = 305.2248988291823\n",
      "m = 301, beta = 0.1, Iteration #: 140000, f_theta = 305.2248988291823\n",
      "m = 301, beta = 0.1, Iteration #: 145000, f_theta = 305.2248988291823\n",
      "m = 301, beta = 0.1, Iteration #: 150000, f_theta = 305.2248988291823\n",
      "m = 301, beta = 0.1, Iteration #: 155000, f_theta = 305.2248988291823\n",
      "m = 301, beta = 0.1, Iteration #: 160000, f_theta = 305.2248988291823\n",
      "m = 301, beta = 0.1, Iteration #: 165000, f_theta = 305.2248988291823\n",
      "m = 301, beta = 0.1, Iteration #: 170000, f_theta = 305.2248988291823\n",
      "m = 301, beta = 0.1, Iteration #: 175000, f_theta = 305.2248988291823\n",
      "\n",
      "----MSE IS: 0.0 ----\n",
      "\n",
      "m = 301, beta = 0.25, Iteration #: 0, f_theta = 15056.900922016739\n",
      "m = 301, beta = 0.25, Iteration #: 5000, f_theta = 3924.24184948554\n",
      "m = 301, beta = 0.25, Iteration #: 10000, f_theta = 3360.8534324828606\n",
      "m = 301, beta = 0.25, Iteration #: 15000, f_theta = 2653.385751737807\n",
      "m = 301, beta = 0.25, Iteration #: 20000, f_theta = 2507.2220141447824\n",
      "m = 301, beta = 0.25, Iteration #: 25000, f_theta = 1976.53361747265\n",
      "m = 301, beta = 0.25, Iteration #: 30000, f_theta = 1102.4376391710598\n",
      "m = 301, beta = 0.25, Iteration #: 35000, f_theta = 1073.6255888039484\n",
      "m = 301, beta = 0.25, Iteration #: 40000, f_theta = 1073.6078146868108\n",
      "m = 301, beta = 0.25, Iteration #: 45000, f_theta = 672.5982369531589\n",
      "m = 301, beta = 0.25, Iteration #: 50000, f_theta = 675.4504276370387\n",
      "m = 301, beta = 0.25, Iteration #: 55000, f_theta = 675.4504276370387\n",
      "m = 301, beta = 0.25, Iteration #: 60000, f_theta = 645.2727889872665\n",
      "m = 301, beta = 0.25, Iteration #: 65000, f_theta = 645.2727889872665\n",
      "m = 301, beta = 0.25, Iteration #: 70000, f_theta = 645.2727889872665\n",
      "m = 301, beta = 0.25, Iteration #: 75000, f_theta = 645.2727889872665\n",
      "m = 301, beta = 0.25, Iteration #: 80000, f_theta = 645.2727889872665\n",
      "m = 301, beta = 0.25, Iteration #: 85000, f_theta = 645.2727889872665\n",
      "m = 301, beta = 0.25, Iteration #: 90000, f_theta = 645.2727889872665\n",
      "m = 301, beta = 0.25, Iteration #: 95000, f_theta = 645.2727889872665\n",
      "m = 301, beta = 0.25, Iteration #: 100000, f_theta = 645.2727889872665\n",
      "m = 301, beta = 0.25, Iteration #: 105000, f_theta = 645.2727889872665\n",
      "\n",
      "----MSE IS: 0.0016 ----\n",
      "\n",
      "m = 301, beta = 0.5, Iteration #: 0, f_theta = 15111.470763667254\n",
      "m = 301, beta = 0.5, Iteration #: 5000, f_theta = 3954.525249175283\n",
      "m = 301, beta = 0.5, Iteration #: 10000, f_theta = 3374.2694293477543\n",
      "m = 301, beta = 0.5, Iteration #: 15000, f_theta = 3099.846517498155\n",
      "m = 301, beta = 0.5, Iteration #: 20000, f_theta = 2551.3424845437385\n",
      "m = 301, beta = 0.5, Iteration #: 25000, f_theta = 1658.8486230263309\n",
      "m = 301, beta = 0.5, Iteration #: 30000, f_theta = 1413.2383807442136\n",
      "m = 301, beta = 0.5, Iteration #: 35000, f_theta = 1059.6468433270588\n",
      "m = 301, beta = 0.5, Iteration #: 40000, f_theta = 726.4911836420279\n",
      "m = 301, beta = 0.5, Iteration #: 45000, f_theta = 692.0352427976491\n",
      "m = 301, beta = 0.5, Iteration #: 50000, f_theta = 692.0352427976491\n",
      "m = 301, beta = 0.5, Iteration #: 55000, f_theta = 692.0352427976491\n",
      "m = 301, beta = 0.5, Iteration #: 60000, f_theta = 692.0352427976491\n",
      "m = 301, beta = 0.5, Iteration #: 65000, f_theta = 314.4544553047813\n",
      "m = 301, beta = 0.5, Iteration #: 70000, f_theta = 314.4544553047813\n",
      "m = 301, beta = 0.5, Iteration #: 75000, f_theta = 314.4544553047813\n",
      "m = 301, beta = 0.5, Iteration #: 80000, f_theta = 314.4544553047813\n",
      "m = 301, beta = 0.5, Iteration #: 85000, f_theta = 314.4544553047813\n",
      "m = 301, beta = 0.5, Iteration #: 90000, f_theta = 314.4544553047813\n",
      "m = 301, beta = 0.5, Iteration #: 95000, f_theta = 314.4544553047813\n",
      "m = 301, beta = 0.5, Iteration #: 100000, f_theta = 314.4544553047813\n",
      "m = 301, beta = 0.5, Iteration #: 105000, f_theta = 314.4544553047813\n",
      "m = 301, beta = 0.5, Iteration #: 110000, f_theta = 314.4544553047813\n",
      "\n",
      "----MSE IS: 0.0 ----\n",
      "\n",
      "m = 301, beta = 0.75, Iteration #: 0, f_theta = 14854.46090447312\n",
      "m = 301, beta = 0.75, Iteration #: 5000, f_theta = 3719.450177579877\n",
      "m = 301, beta = 0.75, Iteration #: 10000, f_theta = 2299.992643271017\n",
      "m = 301, beta = 0.75, Iteration #: 15000, f_theta = 1908.5971808508311\n",
      "m = 301, beta = 0.75, Iteration #: 20000, f_theta = 1595.3285746856914\n",
      "m = 301, beta = 0.75, Iteration #: 25000, f_theta = 1443.1196871972459\n",
      "m = 301, beta = 0.75, Iteration #: 30000, f_theta = 1150.2992768610077\n",
      "m = 301, beta = 0.75, Iteration #: 35000, f_theta = 1132.8793215507183\n",
      "m = 301, beta = 0.75, Iteration #: 40000, f_theta = 1132.8793215507183\n",
      "m = 301, beta = 0.75, Iteration #: 45000, f_theta = 825.4796313950978\n",
      "m = 301, beta = 0.75, Iteration #: 50000, f_theta = 772.1953669988078\n",
      "m = 301, beta = 0.75, Iteration #: 55000, f_theta = 713.6901323541063\n",
      "m = 301, beta = 0.75, Iteration #: 60000, f_theta = 713.6901323541063\n",
      "m = 301, beta = 0.75, Iteration #: 65000, f_theta = 713.6901323541063\n",
      "m = 301, beta = 0.75, Iteration #: 70000, f_theta = 713.6901323541063\n",
      "m = 301, beta = 0.75, Iteration #: 75000, f_theta = 713.6901323541063\n",
      "m = 301, beta = 0.75, Iteration #: 80000, f_theta = 713.6901323541063\n",
      "m = 301, beta = 0.75, Iteration #: 85000, f_theta = 713.6901323541063\n",
      "m = 301, beta = 0.75, Iteration #: 90000, f_theta = 713.6901323541063\n",
      "m = 301, beta = 0.75, Iteration #: 95000, f_theta = 694.9714196517825\n",
      "m = 301, beta = 0.75, Iteration #: 100000, f_theta = 694.9714196517825\n",
      "m = 301, beta = 0.75, Iteration #: 105000, f_theta = 694.9714196517825\n",
      "m = 301, beta = 0.75, Iteration #: 110000, f_theta = 311.33853534268866\n",
      "m = 301, beta = 0.75, Iteration #: 115000, f_theta = 311.33853534268866\n",
      "m = 301, beta = 0.75, Iteration #: 120000, f_theta = 311.33853534268866\n",
      "m = 301, beta = 0.75, Iteration #: 125000, f_theta = 311.33853534268866\n",
      "m = 301, beta = 0.75, Iteration #: 130000, f_theta = 311.33853534268866\n",
      "m = 301, beta = 0.75, Iteration #: 135000, f_theta = 311.33853534268866\n",
      "m = 301, beta = 0.75, Iteration #: 140000, f_theta = 311.33853534268866\n",
      "m = 301, beta = 0.75, Iteration #: 145000, f_theta = 311.33853534268866\n",
      "m = 301, beta = 0.75, Iteration #: 150000, f_theta = 311.33853534268866\n",
      "m = 301, beta = 0.75, Iteration #: 155000, f_theta = 311.33853534268866\n",
      "\n",
      "----MSE IS: 0.0 ----\n",
      "\n",
      "m = 301, beta = 1, Iteration #: 0, f_theta = 15625.089395566407\n",
      "m = 301, beta = 1, Iteration #: 5000, f_theta = 3824.7388366032365\n",
      "m = 301, beta = 1, Iteration #: 10000, f_theta = 2392.6059837155017\n",
      "m = 301, beta = 1, Iteration #: 15000, f_theta = 1763.29177198488\n",
      "m = 301, beta = 1, Iteration #: 20000, f_theta = 1637.8824449199044\n",
      "m = 301, beta = 1, Iteration #: 25000, f_theta = 1396.7921554576146\n",
      "m = 301, beta = 1, Iteration #: 30000, f_theta = 1396.7921554576146\n",
      "m = 301, beta = 1, Iteration #: 35000, f_theta = 1087.8933687808317\n",
      "m = 301, beta = 1, Iteration #: 40000, f_theta = 1043.4882185863994\n",
      "m = 301, beta = 1, Iteration #: 45000, f_theta = 727.6502985959115\n",
      "m = 301, beta = 1, Iteration #: 50000, f_theta = 727.6502985959115\n",
      "m = 301, beta = 1, Iteration #: 55000, f_theta = 691.7322003954176\n",
      "m = 301, beta = 1, Iteration #: 60000, f_theta = 691.7322003954176\n",
      "m = 301, beta = 1, Iteration #: 65000, f_theta = 691.7322003954176\n",
      "m = 301, beta = 1, Iteration #: 70000, f_theta = 691.7322003954176\n",
      "m = 301, beta = 1, Iteration #: 75000, f_theta = 691.7322003954176\n",
      "m = 301, beta = 1, Iteration #: 80000, f_theta = 691.7322003954176\n",
      "m = 301, beta = 1, Iteration #: 85000, f_theta = 691.7322003954176\n",
      "m = 301, beta = 1, Iteration #: 90000, f_theta = 691.7322003954176\n",
      "m = 301, beta = 1, Iteration #: 95000, f_theta = 691.7322003954176\n",
      "m = 301, beta = 1, Iteration #: 100000, f_theta = 691.7322003954176\n",
      "\n",
      "----MSE IS: 0.0016 ----\n",
      "\n",
      "m = 301, beta = 5, Iteration #: 0, f_theta = 16220.33013560132\n",
      "m = 301, beta = 5, Iteration #: 5000, f_theta = 4286.759319483527\n",
      "m = 301, beta = 5, Iteration #: 10000, f_theta = 3678.1777891737993\n",
      "m = 301, beta = 5, Iteration #: 15000, f_theta = 3168.033345543703\n",
      "m = 301, beta = 5, Iteration #: 20000, f_theta = 2494.897792404433\n",
      "m = 301, beta = 5, Iteration #: 25000, f_theta = 2064.3209948822478\n",
      "m = 301, beta = 5, Iteration #: 30000, f_theta = 1605.2465100164704\n",
      "m = 301, beta = 5, Iteration #: 35000, f_theta = 1384.0220997298504\n",
      "m = 301, beta = 5, Iteration #: 40000, f_theta = 1189.9043442870725\n",
      "m = 301, beta = 5, Iteration #: 45000, f_theta = 1174.6558831790815\n",
      "m = 301, beta = 5, Iteration #: 50000, f_theta = 1147.64131617989\n",
      "m = 301, beta = 5, Iteration #: 55000, f_theta = 1125.8300150599546\n",
      "m = 301, beta = 5, Iteration #: 60000, f_theta = 1125.8300150599546\n",
      "m = 301, beta = 5, Iteration #: 65000, f_theta = 816.6078906011044\n",
      "m = 301, beta = 5, Iteration #: 70000, f_theta = 727.1714523827183\n",
      "m = 301, beta = 5, Iteration #: 75000, f_theta = 715.038185286637\n",
      "m = 301, beta = 5, Iteration #: 80000, f_theta = 712.2713548118982\n",
      "m = 301, beta = 5, Iteration #: 85000, f_theta = 659.2376709778187\n",
      "m = 301, beta = 5, Iteration #: 90000, f_theta = 323.02891092995253\n",
      "m = 301, beta = 5, Iteration #: 95000, f_theta = 323.02891092995253\n",
      "m = 301, beta = 5, Iteration #: 100000, f_theta = 323.02891092995253\n",
      "m = 301, beta = 5, Iteration #: 105000, f_theta = 323.02891092995253\n",
      "m = 301, beta = 5, Iteration #: 110000, f_theta = 323.02891092995253\n",
      "m = 301, beta = 5, Iteration #: 115000, f_theta = 323.02891092995253\n",
      "m = 301, beta = 5, Iteration #: 120000, f_theta = 323.02891092995253\n",
      "m = 301, beta = 5, Iteration #: 125000, f_theta = 323.02891092995253\n",
      "m = 301, beta = 5, Iteration #: 130000, f_theta = 323.02891092995253\n",
      "m = 301, beta = 5, Iteration #: 135000, f_theta = 323.02891092995253\n",
      "\n",
      "----MSE IS: 0.0 ----\n"
     ]
    }
   ],
   "source": [
    "for i, m in enumerate(all_m_list):\n",
    "    for j, beta in enumerate(all_beta_list):  \n",
    "        X = np.random.normal(0, 1, size=(m, d))\n",
    "        ksi = np.random.normal(0, sigma, size = m)\n",
    "        y = np.dot(X, theta_true) + ksi\n",
    "        theta_predicted = mh_2(X, theta_initial, y, beta, num_iter)\n",
    "        mse = mse_sparse(theta_true, theta_predicted)\n",
    "        print(\"\\n----MSE IS:\", mse, \"----\\n\")\n",
    "        mse_matrix_q2[i][j] = mse\n",
    "    "
   ],
   "metadata": {
    "collapsed": false,
    "ExecuteTime": {
     "end_time": "2023-12-01T23:10:55.785354600Z",
     "start_time": "2023-12-01T22:55:34.550612900Z"
    }
   },
   "id": "e84d58df052870f3"
  },
  {
   "cell_type": "code",
   "execution_count": 53,
   "outputs": [],
   "source": [
    "mse_matrix_q2 = pd.DataFrame(mse_matrix_q2, index = all_m_list, columns=all_beta_list)"
   ],
   "metadata": {
    "collapsed": false,
    "ExecuteTime": {
     "end_time": "2023-12-01T22:47:34.269200Z",
     "start_time": "2023-12-01T22:47:34.076659800Z"
    }
   },
   "id": "c04f43a295c53867"
  },
  {
   "cell_type": "code",
   "execution_count": 54,
   "outputs": [
    {
     "data": {
      "text/plain": "      0.001   0.005   0.010  0.050   0.100   0.250   0.500   0.750   1.000  \\\n201  0.0384  0.0352  0.0368    0.0  0.0288  0.0000  0.0192  0.0272  0.0000   \n211  0.0400  0.0368  0.0336    0.0  0.0000  0.0272  0.0016  0.0000  0.0208   \n221  0.0400  0.0400  0.0352    0.0  0.0000  0.0176  0.0000  0.0000  0.0288   \n231  0.0384  0.0352  0.0336    0.0  0.0000  0.0000  0.0000  0.0016  0.0000   \n241  0.0384  0.0336  0.0352    0.0  0.0000  0.0000  0.0000  0.0000  0.0000   \n251  0.0400  0.0368  0.0336    0.0  0.0000  0.0000  0.0000  0.0000  0.0000   \n\n      5.000  \n201  0.0000  \n211  0.0016  \n221  0.0000  \n231  0.0128  \n241  0.0224  \n251  0.0000  ",
      "text/html": "<div>\n<style scoped>\n    .dataframe tbody tr th:only-of-type {\n        vertical-align: middle;\n    }\n\n    .dataframe tbody tr th {\n        vertical-align: top;\n    }\n\n    .dataframe thead th {\n        text-align: right;\n    }\n</style>\n<table border=\"1\" class=\"dataframe\">\n  <thead>\n    <tr style=\"text-align: right;\">\n      <th></th>\n      <th>0.001</th>\n      <th>0.005</th>\n      <th>0.010</th>\n      <th>0.050</th>\n      <th>0.100</th>\n      <th>0.250</th>\n      <th>0.500</th>\n      <th>0.750</th>\n      <th>1.000</th>\n      <th>5.000</th>\n    </tr>\n  </thead>\n  <tbody>\n    <tr>\n      <th>201</th>\n      <td>0.0384</td>\n      <td>0.0352</td>\n      <td>0.0368</td>\n      <td>0.0</td>\n      <td>0.0288</td>\n      <td>0.0000</td>\n      <td>0.0192</td>\n      <td>0.0272</td>\n      <td>0.0000</td>\n      <td>0.0000</td>\n    </tr>\n    <tr>\n      <th>211</th>\n      <td>0.0400</td>\n      <td>0.0368</td>\n      <td>0.0336</td>\n      <td>0.0</td>\n      <td>0.0000</td>\n      <td>0.0272</td>\n      <td>0.0016</td>\n      <td>0.0000</td>\n      <td>0.0208</td>\n      <td>0.0016</td>\n    </tr>\n    <tr>\n      <th>221</th>\n      <td>0.0400</td>\n      <td>0.0400</td>\n      <td>0.0352</td>\n      <td>0.0</td>\n      <td>0.0000</td>\n      <td>0.0176</td>\n      <td>0.0000</td>\n      <td>0.0000</td>\n      <td>0.0288</td>\n      <td>0.0000</td>\n    </tr>\n    <tr>\n      <th>231</th>\n      <td>0.0384</td>\n      <td>0.0352</td>\n      <td>0.0336</td>\n      <td>0.0</td>\n      <td>0.0000</td>\n      <td>0.0000</td>\n      <td>0.0000</td>\n      <td>0.0016</td>\n      <td>0.0000</td>\n      <td>0.0128</td>\n    </tr>\n    <tr>\n      <th>241</th>\n      <td>0.0384</td>\n      <td>0.0336</td>\n      <td>0.0352</td>\n      <td>0.0</td>\n      <td>0.0000</td>\n      <td>0.0000</td>\n      <td>0.0000</td>\n      <td>0.0000</td>\n      <td>0.0000</td>\n      <td>0.0224</td>\n    </tr>\n    <tr>\n      <th>251</th>\n      <td>0.0400</td>\n      <td>0.0368</td>\n      <td>0.0336</td>\n      <td>0.0</td>\n      <td>0.0000</td>\n      <td>0.0000</td>\n      <td>0.0000</td>\n      <td>0.0000</td>\n      <td>0.0000</td>\n      <td>0.0000</td>\n    </tr>\n  </tbody>\n</table>\n</div>"
     },
     "execution_count": 54,
     "metadata": {},
     "output_type": "execute_result"
    }
   ],
   "source": [
    "mse_matrix_q2"
   ],
   "metadata": {
    "collapsed": false,
    "ExecuteTime": {
     "end_time": "2023-12-01T22:47:36.327522900Z",
     "start_time": "2023-12-01T22:47:36.195840400Z"
    }
   },
   "id": "c436477908d8970d"
  },
  {
   "cell_type": "code",
   "execution_count": 55,
   "outputs": [],
   "source": [
    "mse_matrix_q2.to_pickle(\"ms_q2.pkl\")"
   ],
   "metadata": {
    "collapsed": false,
    "ExecuteTime": {
     "end_time": "2023-12-01T22:54:22.408039200Z",
     "start_time": "2023-12-01T22:54:22.260258600Z"
    }
   },
   "id": "94467e09293e9ec"
  },
  {
   "cell_type": "code",
   "execution_count": 66,
   "outputs": [],
   "source": [
    "a = pd.DataFrame([{0.001:0.04, 0.005:0.04, 0.010:0.0384, 0.050:0.04, 0.1:0.04, 0.25:0.04, 0.50:0.04, 0.75:0.04, 1:0.04, 5:0.04}, {0.001:0.04, 0.005:0.04, 0.010:0.0384, 0.050:0.04, 0.1:0.04, 0.25:0.04, 0.50:0.04, 0.75:0.0384, 1:0.0384, 5:0.04}, {0.001:0.04, 0.005:0.04, 0.010:0.04, 0.050:0.04, 0.1:0.04, 0.25:0.0384, 0.50:0.0384, 0.75:0.04, 1:0.04, 5:0.04}, {0.001:0.04, 0.005:0.04, 0.010:0.0384, 0.050:0.04, 0.1:0.04, 0.25:0.0368, 0.50:0.0384, 0.75:0.04, 1:0.04, 5:0.04}, {0.001:0.04, 0.005:0.04, 0.010:0.04, 0.050:0.0384, 0.1:0.0368, 0.25:0.0336, 0.50:0.04, 0.75:0.04, 1:0.0368, 5:0.04}, {0.001:0.0368, 0.005:0.04, 0.010:0.0384, 0.050:0.04, 0.1:0.04, 0.25:0.0368, 0.50:0.0384, 0.75:0.0352, 1:0.0384, 5:0.0352}, {0.001:0.04, 0.005:0.0384, 0.010:0.04, 0.050:0.04, 0.1:0.0384, 0.25:0.0332, 0.50:0.0336, 0.75:0.04, 1:0.0336, 5:0.0368}, {0.001:0.0384, 0.005:0.04, 0.010:0.0384, 0.050:0.0368, 0.1:0.0336, 0.25:0.0384, 0.50:0.04, 0.75:0.0368, 1:0.0384, 5:0.0384}, {0.001:0.04, 0.005:0.0384, 0.010:0.04, 0.050:0.0384, 0.1:0.0352, 0.25:0.0384, 0.50:0.0352, 0.75:0.0384, 1:0.0384, 5:0.0368}, {0.001:0.04, 0.005:0.04, 0.010:0.04, 0.050:0.0368, 0.1:0.0384, 0.25:0.0352, 0.50:0.0368, 0.75:0.0336, 1:0.0304, 5:0.0352}, {0.001:0.0384, 0.005:0.04, 0.010:0.0384, 0.050:0.0352, 0.1:0.0352, 0.25:0.0352, 0.50:0.0288, 0.75:0.0272, 1:0.0336, 5:0.0368}], index = [1, 11, 21, 31, 41, 51, 61, 71, 81, 91, 101])"
   ],
   "metadata": {
    "collapsed": false,
    "ExecuteTime": {
     "end_time": "2023-12-01T23:40:50.103229900Z",
     "start_time": "2023-12-01T23:40:49.955240100Z"
    }
   },
   "id": "f981efeff084153f"
  },
  {
   "cell_type": "code",
   "execution_count": 68,
   "outputs": [],
   "source": [
    "mse_1_101 = a"
   ],
   "metadata": {
    "collapsed": false,
    "ExecuteTime": {
     "end_time": "2023-12-01T23:41:11.454986900Z",
     "start_time": "2023-12-01T23:41:11.358247900Z"
    }
   },
   "id": "fea5688ee02b2b14"
  },
  {
   "cell_type": "code",
   "execution_count": 69,
   "outputs": [],
   "source": [
    "mse_201_251 = pd.read_pickle(\"ms_q2.pkl\")"
   ],
   "metadata": {
    "collapsed": false,
    "ExecuteTime": {
     "end_time": "2023-12-01T23:41:58.241177200Z",
     "start_time": "2023-12-01T23:41:58.153410700Z"
    }
   },
   "id": "77763003e88d4fa7"
  },
  {
   "cell_type": "code",
   "execution_count": 70,
   "outputs": [],
   "source": [
    "mse_251_301 = pd.read_pickle(\"ms_q2_t.pkl\")"
   ],
   "metadata": {
    "collapsed": false,
    "ExecuteTime": {
     "end_time": "2023-12-01T23:42:45.803448700Z",
     "start_time": "2023-12-01T23:42:45.709459200Z"
    }
   },
   "id": "a5ee5e43575a8a08"
  },
  {
   "cell_type": "code",
   "execution_count": 71,
   "outputs": [],
   "source": [
    "mse_half = pd.concat([mse_1_101, mse_201_251, mse_251_301]).sort_index()"
   ],
   "metadata": {
    "collapsed": false,
    "ExecuteTime": {
     "end_time": "2023-12-01T23:43:05.099867500Z",
     "start_time": "2023-12-01T23:43:05.006115100Z"
    }
   },
   "id": "a48cd44f7f542f89"
  },
  {
   "cell_type": "code",
   "execution_count": 73,
   "outputs": [],
   "source": [
    "mse_half.to_pickle(\"mse_half.pkl\")"
   ],
   "metadata": {
    "collapsed": false,
    "ExecuteTime": {
     "end_time": "2023-12-01T23:43:26.089361300Z",
     "start_time": "2023-12-01T23:43:25.988119Z"
    }
   },
   "id": "6da939ef77fa8ce1"
  },
  {
   "cell_type": "code",
   "execution_count": 74,
   "outputs": [
    {
     "data": {
      "text/plain": "      0.001   0.005   0.010   0.050   0.100   0.250   0.500   0.750   1.000  \\\n1    0.0400  0.0400  0.0384  0.0400  0.0400  0.0400  0.0400  0.0400  0.0400   \n11   0.0400  0.0400  0.0384  0.0400  0.0400  0.0400  0.0400  0.0384  0.0384   \n21   0.0400  0.0400  0.0400  0.0400  0.0400  0.0384  0.0384  0.0400  0.0400   \n31   0.0400  0.0400  0.0384  0.0400  0.0400  0.0368  0.0384  0.0400  0.0400   \n41   0.0400  0.0400  0.0400  0.0384  0.0368  0.0336  0.0400  0.0400  0.0368   \n51   0.0368  0.0400  0.0384  0.0400  0.0400  0.0368  0.0384  0.0352  0.0384   \n61   0.0400  0.0384  0.0400  0.0400  0.0384  0.0332  0.0336  0.0400  0.0336   \n71   0.0384  0.0400  0.0384  0.0368  0.0336  0.0384  0.0400  0.0368  0.0384   \n81   0.0400  0.0384  0.0400  0.0384  0.0352  0.0384  0.0352  0.0384  0.0384   \n91   0.0400  0.0400  0.0400  0.0368  0.0384  0.0352  0.0368  0.0336  0.0304   \n101  0.0384  0.0400  0.0384  0.0352  0.0352  0.0352  0.0288  0.0272  0.0336   \n201  0.0384  0.0352  0.0368  0.0000  0.0288  0.0000  0.0192  0.0272  0.0000   \n211  0.0400  0.0368  0.0336  0.0000  0.0000  0.0272  0.0016  0.0000  0.0208   \n221  0.0400  0.0400  0.0352  0.0000  0.0000  0.0176  0.0000  0.0000  0.0288   \n231  0.0384  0.0352  0.0336  0.0000  0.0000  0.0000  0.0000  0.0016  0.0000   \n241  0.0384  0.0336  0.0352  0.0000  0.0000  0.0000  0.0000  0.0000  0.0000   \n251  0.0400  0.0368  0.0336  0.0000  0.0000  0.0000  0.0000  0.0000  0.0000   \n261  0.0384  0.0368  0.0352  0.0000  0.0000  0.0000  0.0000  0.0000  0.0016   \n271  0.0400  0.0384  0.0320  0.0000  0.0000  0.0000  0.0000  0.0016  0.0000   \n281  0.0400  0.0352  0.0352  0.0000  0.0000  0.0000  0.0000  0.0016  0.0000   \n291  0.0384  0.0336  0.0336  0.0000  0.0000  0.0000  0.0016  0.0000  0.0000   \n301  0.0384  0.0368  0.0304  0.0000  0.0016  0.0000  0.0016  0.0000  0.0000   \n\n      5.000  \n1    0.0400  \n11   0.0400  \n21   0.0400  \n31   0.0400  \n41   0.0400  \n51   0.0352  \n61   0.0368  \n71   0.0384  \n81   0.0368  \n91   0.0352  \n101  0.0368  \n201  0.0000  \n211  0.0016  \n221  0.0000  \n231  0.0128  \n241  0.0224  \n251  0.0000  \n261  0.0000  \n271  0.0000  \n281  0.0000  \n291  0.0016  \n301  0.0000  ",
      "text/html": "<div>\n<style scoped>\n    .dataframe tbody tr th:only-of-type {\n        vertical-align: middle;\n    }\n\n    .dataframe tbody tr th {\n        vertical-align: top;\n    }\n\n    .dataframe thead th {\n        text-align: right;\n    }\n</style>\n<table border=\"1\" class=\"dataframe\">\n  <thead>\n    <tr style=\"text-align: right;\">\n      <th></th>\n      <th>0.001</th>\n      <th>0.005</th>\n      <th>0.010</th>\n      <th>0.050</th>\n      <th>0.100</th>\n      <th>0.250</th>\n      <th>0.500</th>\n      <th>0.750</th>\n      <th>1.000</th>\n      <th>5.000</th>\n    </tr>\n  </thead>\n  <tbody>\n    <tr>\n      <th>1</th>\n      <td>0.0400</td>\n      <td>0.0400</td>\n      <td>0.0384</td>\n      <td>0.0400</td>\n      <td>0.0400</td>\n      <td>0.0400</td>\n      <td>0.0400</td>\n      <td>0.0400</td>\n      <td>0.0400</td>\n      <td>0.0400</td>\n    </tr>\n    <tr>\n      <th>11</th>\n      <td>0.0400</td>\n      <td>0.0400</td>\n      <td>0.0384</td>\n      <td>0.0400</td>\n      <td>0.0400</td>\n      <td>0.0400</td>\n      <td>0.0400</td>\n      <td>0.0384</td>\n      <td>0.0384</td>\n      <td>0.0400</td>\n    </tr>\n    <tr>\n      <th>21</th>\n      <td>0.0400</td>\n      <td>0.0400</td>\n      <td>0.0400</td>\n      <td>0.0400</td>\n      <td>0.0400</td>\n      <td>0.0384</td>\n      <td>0.0384</td>\n      <td>0.0400</td>\n      <td>0.0400</td>\n      <td>0.0400</td>\n    </tr>\n    <tr>\n      <th>31</th>\n      <td>0.0400</td>\n      <td>0.0400</td>\n      <td>0.0384</td>\n      <td>0.0400</td>\n      <td>0.0400</td>\n      <td>0.0368</td>\n      <td>0.0384</td>\n      <td>0.0400</td>\n      <td>0.0400</td>\n      <td>0.0400</td>\n    </tr>\n    <tr>\n      <th>41</th>\n      <td>0.0400</td>\n      <td>0.0400</td>\n      <td>0.0400</td>\n      <td>0.0384</td>\n      <td>0.0368</td>\n      <td>0.0336</td>\n      <td>0.0400</td>\n      <td>0.0400</td>\n      <td>0.0368</td>\n      <td>0.0400</td>\n    </tr>\n    <tr>\n      <th>51</th>\n      <td>0.0368</td>\n      <td>0.0400</td>\n      <td>0.0384</td>\n      <td>0.0400</td>\n      <td>0.0400</td>\n      <td>0.0368</td>\n      <td>0.0384</td>\n      <td>0.0352</td>\n      <td>0.0384</td>\n      <td>0.0352</td>\n    </tr>\n    <tr>\n      <th>61</th>\n      <td>0.0400</td>\n      <td>0.0384</td>\n      <td>0.0400</td>\n      <td>0.0400</td>\n      <td>0.0384</td>\n      <td>0.0332</td>\n      <td>0.0336</td>\n      <td>0.0400</td>\n      <td>0.0336</td>\n      <td>0.0368</td>\n    </tr>\n    <tr>\n      <th>71</th>\n      <td>0.0384</td>\n      <td>0.0400</td>\n      <td>0.0384</td>\n      <td>0.0368</td>\n      <td>0.0336</td>\n      <td>0.0384</td>\n      <td>0.0400</td>\n      <td>0.0368</td>\n      <td>0.0384</td>\n      <td>0.0384</td>\n    </tr>\n    <tr>\n      <th>81</th>\n      <td>0.0400</td>\n      <td>0.0384</td>\n      <td>0.0400</td>\n      <td>0.0384</td>\n      <td>0.0352</td>\n      <td>0.0384</td>\n      <td>0.0352</td>\n      <td>0.0384</td>\n      <td>0.0384</td>\n      <td>0.0368</td>\n    </tr>\n    <tr>\n      <th>91</th>\n      <td>0.0400</td>\n      <td>0.0400</td>\n      <td>0.0400</td>\n      <td>0.0368</td>\n      <td>0.0384</td>\n      <td>0.0352</td>\n      <td>0.0368</td>\n      <td>0.0336</td>\n      <td>0.0304</td>\n      <td>0.0352</td>\n    </tr>\n    <tr>\n      <th>101</th>\n      <td>0.0384</td>\n      <td>0.0400</td>\n      <td>0.0384</td>\n      <td>0.0352</td>\n      <td>0.0352</td>\n      <td>0.0352</td>\n      <td>0.0288</td>\n      <td>0.0272</td>\n      <td>0.0336</td>\n      <td>0.0368</td>\n    </tr>\n    <tr>\n      <th>201</th>\n      <td>0.0384</td>\n      <td>0.0352</td>\n      <td>0.0368</td>\n      <td>0.0000</td>\n      <td>0.0288</td>\n      <td>0.0000</td>\n      <td>0.0192</td>\n      <td>0.0272</td>\n      <td>0.0000</td>\n      <td>0.0000</td>\n    </tr>\n    <tr>\n      <th>211</th>\n      <td>0.0400</td>\n      <td>0.0368</td>\n      <td>0.0336</td>\n      <td>0.0000</td>\n      <td>0.0000</td>\n      <td>0.0272</td>\n      <td>0.0016</td>\n      <td>0.0000</td>\n      <td>0.0208</td>\n      <td>0.0016</td>\n    </tr>\n    <tr>\n      <th>221</th>\n      <td>0.0400</td>\n      <td>0.0400</td>\n      <td>0.0352</td>\n      <td>0.0000</td>\n      <td>0.0000</td>\n      <td>0.0176</td>\n      <td>0.0000</td>\n      <td>0.0000</td>\n      <td>0.0288</td>\n      <td>0.0000</td>\n    </tr>\n    <tr>\n      <th>231</th>\n      <td>0.0384</td>\n      <td>0.0352</td>\n      <td>0.0336</td>\n      <td>0.0000</td>\n      <td>0.0000</td>\n      <td>0.0000</td>\n      <td>0.0000</td>\n      <td>0.0016</td>\n      <td>0.0000</td>\n      <td>0.0128</td>\n    </tr>\n    <tr>\n      <th>241</th>\n      <td>0.0384</td>\n      <td>0.0336</td>\n      <td>0.0352</td>\n      <td>0.0000</td>\n      <td>0.0000</td>\n      <td>0.0000</td>\n      <td>0.0000</td>\n      <td>0.0000</td>\n      <td>0.0000</td>\n      <td>0.0224</td>\n    </tr>\n    <tr>\n      <th>251</th>\n      <td>0.0400</td>\n      <td>0.0368</td>\n      <td>0.0336</td>\n      <td>0.0000</td>\n      <td>0.0000</td>\n      <td>0.0000</td>\n      <td>0.0000</td>\n      <td>0.0000</td>\n      <td>0.0000</td>\n      <td>0.0000</td>\n    </tr>\n    <tr>\n      <th>261</th>\n      <td>0.0384</td>\n      <td>0.0368</td>\n      <td>0.0352</td>\n      <td>0.0000</td>\n      <td>0.0000</td>\n      <td>0.0000</td>\n      <td>0.0000</td>\n      <td>0.0000</td>\n      <td>0.0016</td>\n      <td>0.0000</td>\n    </tr>\n    <tr>\n      <th>271</th>\n      <td>0.0400</td>\n      <td>0.0384</td>\n      <td>0.0320</td>\n      <td>0.0000</td>\n      <td>0.0000</td>\n      <td>0.0000</td>\n      <td>0.0000</td>\n      <td>0.0016</td>\n      <td>0.0000</td>\n      <td>0.0000</td>\n    </tr>\n    <tr>\n      <th>281</th>\n      <td>0.0400</td>\n      <td>0.0352</td>\n      <td>0.0352</td>\n      <td>0.0000</td>\n      <td>0.0000</td>\n      <td>0.0000</td>\n      <td>0.0000</td>\n      <td>0.0016</td>\n      <td>0.0000</td>\n      <td>0.0000</td>\n    </tr>\n    <tr>\n      <th>291</th>\n      <td>0.0384</td>\n      <td>0.0336</td>\n      <td>0.0336</td>\n      <td>0.0000</td>\n      <td>0.0000</td>\n      <td>0.0000</td>\n      <td>0.0016</td>\n      <td>0.0000</td>\n      <td>0.0000</td>\n      <td>0.0016</td>\n    </tr>\n    <tr>\n      <th>301</th>\n      <td>0.0384</td>\n      <td>0.0368</td>\n      <td>0.0304</td>\n      <td>0.0000</td>\n      <td>0.0016</td>\n      <td>0.0000</td>\n      <td>0.0016</td>\n      <td>0.0000</td>\n      <td>0.0000</td>\n      <td>0.0000</td>\n    </tr>\n  </tbody>\n</table>\n</div>"
     },
     "execution_count": 74,
     "metadata": {},
     "output_type": "execute_result"
    }
   ],
   "source": [
    "mse_half"
   ],
   "metadata": {
    "collapsed": false,
    "ExecuteTime": {
     "end_time": "2023-12-01T23:44:17.902355600Z",
     "start_time": "2023-12-01T23:44:17.787110900Z"
    }
   },
   "id": "e1c798198be93eb8"
  },
  {
   "cell_type": "code",
   "execution_count": null,
   "outputs": [],
   "source": [],
   "metadata": {
    "collapsed": false
   },
   "id": "cc1c39d116cf6cb9"
  }
 ],
 "metadata": {
  "kernelspec": {
   "display_name": "Python 3",
   "language": "python",
   "name": "python3"
  },
  "language_info": {
   "codemirror_mode": {
    "name": "ipython",
    "version": 2
   },
   "file_extension": ".py",
   "mimetype": "text/x-python",
   "name": "python",
   "nbconvert_exporter": "python",
   "pygments_lexer": "ipython2",
   "version": "2.7.6"
  }
 },
 "nbformat": 4,
 "nbformat_minor": 5
}
