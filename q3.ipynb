{
 "cells": [
  {
   "cell_type": "code",
   "execution_count": 1,
   "id": "initial_id",
   "metadata": {
    "collapsed": true,
    "ExecuteTime": {
     "end_time": "2023-12-04T09:33:11.330633500Z",
     "start_time": "2023-12-04T09:33:11.167316300Z"
    }
   },
   "outputs": [],
   "source": [
    "from helpers import *\n",
    "%load_ext autoreload\n",
    "%autoreload 2"
   ]
  },
  {
   "cell_type": "markdown",
   "source": [
    "Experiment With Different Beta Values"
   ],
   "metadata": {
    "collapsed": false
   },
   "id": "23e0de40f32968e3"
  },
  {
   "cell_type": "code",
   "execution_count": 2,
   "outputs": [],
   "source": [
    "#Initialization\n",
    "d = 1500\n",
    "sigma = 1\n",
    "num_iter = 100*d\n",
    "np.random.seed(2)\n",
    "\n",
    "# Create a vector with d/100 non-zero values\n",
    "num_non_zero = d // 100\n",
    "theta_true = np.zeros(d)\n",
    "theta_true[:num_non_zero] = 1\n",
    "\n",
    "theta_initial = np.zeros(d)\n",
    "theta_initial[:num_non_zero] = 1\n",
    "\n",
    "# Shuffle the array to randomize the positions of the non-zero values\n",
    "np.random.shuffle(theta_true)\n",
    "np.random.shuffle(theta_initial)"
   ],
   "metadata": {
    "collapsed": false,
    "ExecuteTime": {
     "end_time": "2023-12-04T09:33:11.377556400Z",
     "start_time": "2023-12-04T09:33:11.330633500Z"
    }
   },
   "id": "6a5e3e3db106dc23"
  },
  {
   "cell_type": "code",
   "execution_count": 3,
   "outputs": [],
   "source": [
    "all_m_list = np.linspace(1, 1000, 50).astype(int)\n",
    "all_beta_list = [0.25, 0.50, 0.75, 1, 5]"
   ],
   "metadata": {
    "collapsed": false,
    "ExecuteTime": {
     "end_time": "2023-12-04T09:33:11.424423100Z",
     "start_time": "2023-12-04T09:33:11.377556400Z"
    }
   },
   "id": "3a490f6256e6bc99"
  },
  {
   "cell_type": "code",
   "execution_count": 4,
   "outputs": [],
   "source": [
    "mse_matrix_q3 = np.zeros((len(all_m_list), len(all_beta_list)))"
   ],
   "metadata": {
    "collapsed": false,
    "ExecuteTime": {
     "end_time": "2023-12-04T09:33:11.471198500Z",
     "start_time": "2023-12-04T09:33:11.424423100Z"
    }
   },
   "id": "96dd695dd5892196"
  },
  {
   "cell_type": "code",
   "execution_count": null,
   "outputs": [],
   "source": [
    "for i, m in enumerate(all_m_list):\n",
    "    X = np.random.normal(0, 1, size=(m, d))\n",
    "    ksi = np.random.normal(0, sigma, size = m)\n",
    "    y = np.dot(X, theta_true) + ksi\n",
    "    y = np.sign(y) + (y == 0)\n",
    "    for j, beta in enumerate(all_beta_list):  \n",
    "        theta_predicted = mh_3(X, theta_initial, y, beta, num_iter)\n",
    "        mse = mse_sparse(theta_true, theta_predicted, num_non_zero)\n",
    "        print(\"\\n----MSE IS:\", mse, \"----\\n\")\n",
    "        mse_matrix_q3[i][j] = mse"
   ],
   "metadata": {
    "collapsed": false
   },
   "id": "e84d58df052870f3"
  },
  {
   "cell_type": "markdown",
   "source": [
    "Simulated Annealing"
   ],
   "metadata": {
    "collapsed": false
   },
   "id": "2448d82fc1f36082"
  },
  {
   "cell_type": "code",
   "execution_count": 6,
   "outputs": [],
   "source": [
    "mse_matrix_sa = np.zeros(len(all_m_list))"
   ],
   "metadata": {
    "collapsed": false,
    "ExecuteTime": {
     "end_time": "2023-12-04T09:33:40.295763300Z",
     "start_time": "2023-12-04T09:33:39.393942200Z"
    }
   },
   "id": "71e709879c2368f1"
  },
  {
   "cell_type": "code",
   "execution_count": null,
   "outputs": [],
   "source": [
    "for i, m in enumerate(all_m_list):\n",
    "    X = np.random.normal(0, 1, size=(m, d))\n",
    "    ksi = np.random.normal(0, sigma, size = m)\n",
    "    y = np.dot(X, theta_true) + ksi\n",
    "    y = np.sign(y) + (y == 0)\n",
    "    theta_predicted = simulated_annealing_mh_3(X, theta_initial, y, beta_m_over_5_start=1, beta_m_over_5_end=250, seq_length =100, num_iter=num_iter)\n",
    "    mse = mse_sparse(theta_true, theta_predicted, num_non_zero)\n",
    "    print(\"\\n----MSE IS:\", mse, \"----\\n\")\n",
    "    mse_matrix_sa[i] = mse"
   ],
   "metadata": {
    "collapsed": false
   },
   "id": "58647a6fe102fd3c"
  }
 ],
 "metadata": {
  "kernelspec": {
   "display_name": "Python 3",
   "language": "python",
   "name": "python3"
  },
  "language_info": {
   "codemirror_mode": {
    "name": "ipython",
    "version": 2
   },
   "file_extension": ".py",
   "mimetype": "text/x-python",
   "name": "python",
   "nbconvert_exporter": "python",
   "pygments_lexer": "ipython2",
   "version": "2.7.6"
  }
 },
 "nbformat": 4,
 "nbformat_minor": 5
}
