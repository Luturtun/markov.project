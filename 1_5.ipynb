{
 "cells": [
  {
   "cell_type": "code",
   "execution_count": 24,
   "id": "initial_id",
   "metadata": {
    "collapsed": true,
    "ExecuteTime": {
     "end_time": "2023-12-02T17:35:21.592477700Z",
     "start_time": "2023-12-02T17:35:21.448044900Z"
    }
   },
   "outputs": [
    {
     "name": "stdout",
     "output_type": "stream",
     "text": [
      "The autoreload extension is already loaded. To reload it, use:\n",
      "  %reload_ext autoreload\n"
     ]
    }
   ],
   "source": [
    "import random\n",
    "import numpy as np\n",
    "import pandas as pd\n",
    "\n",
    "from helpers import *\n",
    "%load_ext autoreload\n",
    "%autoreload 2"
   ]
  },
  {
   "cell_type": "markdown",
   "source": [
    "TASK 1.5"
   ],
   "metadata": {
    "collapsed": false
   },
   "id": "23e0de40f32968e3"
  },
  {
   "cell_type": "code",
   "execution_count": 25,
   "outputs": [],
   "source": [
    "#Initialization\n",
    "m = 3000\n",
    "d = 2500\n",
    "beta = 1\n",
    "sigma = 1\n",
    "num_iter = 100*d\n",
    "np.random.seed(2)\n",
    "X = np.random.normal(0, 1, size=(m, d))\n",
    "ksi = np.random.normal(0, sigma, size = m)\n",
    "theta_true = np.random.randint(2, size = d)\n",
    "theta_initial = np.random.randint(2, size = d)\n",
    "y = np.dot(X, theta_true) + ksi"
   ],
   "metadata": {
    "collapsed": false,
    "ExecuteTime": {
     "end_time": "2023-12-02T17:35:23.292544200Z",
     "start_time": "2023-12-02T17:35:22.891251600Z"
    }
   },
   "id": "6a5e3e3db106dc23"
  },
  {
   "cell_type": "code",
   "execution_count": 27,
   "outputs": [],
   "source": [
    "m_list = [1950]\n",
    "beta_list = [1, 5]"
   ],
   "metadata": {
    "collapsed": false,
    "ExecuteTime": {
     "end_time": "2023-12-02T17:35:28.953509700Z",
     "start_time": "2023-12-02T17:35:28.850911Z"
    }
   },
   "id": "96dd695dd5892196"
  },
  {
   "cell_type": "code",
   "execution_count": 28,
   "outputs": [],
   "source": [
    "mse_matrix_q1 = np.zeros((len(m_list), len(beta_list)))"
   ],
   "metadata": {
    "collapsed": false,
    "ExecuteTime": {
     "end_time": "2023-12-02T17:35:29.705055Z",
     "start_time": "2023-12-02T17:35:29.615246400Z"
    }
   },
   "id": "d7e6db3dd20a3909"
  },
  {
   "cell_type": "code",
   "execution_count": 29,
   "outputs": [
    {
     "name": "stdout",
     "output_type": "stream",
     "text": [
      "m = 1950, beta = 1, Iteration #: 0, f_theta = 2383415.9626633897\n",
      "m = 1950, beta = 1, Iteration #: 5000, f_theta = 424090.63297330297\n",
      "m = 1950, beta = 1, Iteration #: 10000, f_theta = 276116.09975862177\n",
      "m = 1950, beta = 1, Iteration #: 15000, f_theta = 234871.3926967528\n",
      "m = 1950, beta = 1, Iteration #: 20000, f_theta = 203518.5766149016\n",
      "m = 1950, beta = 1, Iteration #: 25000, f_theta = 188583.2209357513\n",
      "m = 1950, beta = 1, Iteration #: 30000, f_theta = 180437.74112213793\n",
      "m = 1950, beta = 1, Iteration #: 35000, f_theta = 175127.14720619947\n",
      "m = 1950, beta = 1, Iteration #: 40000, f_theta = 171628.0978618623\n",
      "m = 1950, beta = 1, Iteration #: 45000, f_theta = 169150.84875943133\n",
      "m = 1950, beta = 1, Iteration #: 50000, f_theta = 166829.01213974593\n",
      "m = 1950, beta = 1, Iteration #: 55000, f_theta = 163755.4491180475\n",
      "m = 1950, beta = 1, Iteration #: 60000, f_theta = 160313.34901470496\n",
      "m = 1950, beta = 1, Iteration #: 65000, f_theta = 157500.72782958756\n",
      "m = 1950, beta = 1, Iteration #: 70000, f_theta = 156427.71955730792\n",
      "m = 1950, beta = 1, Iteration #: 75000, f_theta = 155993.48902673722\n",
      "m = 1950, beta = 1, Iteration #: 80000, f_theta = 155278.3363256749\n",
      "m = 1950, beta = 1, Iteration #: 85000, f_theta = 154156.41198673513\n",
      "m = 1950, beta = 1, Iteration #: 90000, f_theta = 152862.43838285\n",
      "m = 1950, beta = 1, Iteration #: 95000, f_theta = 152349.59106419742\n",
      "m = 1950, beta = 1, Iteration #: 100000, f_theta = 151041.34785509625\n",
      "m = 1950, beta = 1, Iteration #: 105000, f_theta = 149223.89917787426\n",
      "m = 1950, beta = 1, Iteration #: 110000, f_theta = 147798.85439300488\n",
      "m = 1950, beta = 1, Iteration #: 115000, f_theta = 147495.26515906627\n",
      "m = 1950, beta = 1, Iteration #: 120000, f_theta = 146318.64888407406\n",
      "m = 1950, beta = 1, Iteration #: 125000, f_theta = 145152.51531143967\n",
      "m = 1950, beta = 1, Iteration #: 130000, f_theta = 144364.2231013503\n",
      "m = 1950, beta = 1, Iteration #: 135000, f_theta = 143590.58370186787\n",
      "m = 1950, beta = 1, Iteration #: 140000, f_theta = 142242.39682950548\n",
      "m = 1950, beta = 1, Iteration #: 145000, f_theta = 141385.71756344393\n",
      "m = 1950, beta = 1, Iteration #: 150000, f_theta = 140484.8336782062\n",
      "m = 1950, beta = 1, Iteration #: 155000, f_theta = 140324.0410049435\n",
      "m = 1950, beta = 1, Iteration #: 160000, f_theta = 140323.01039969572\n",
      "m = 1950, beta = 1, Iteration #: 165000, f_theta = 140323.01039969572\n",
      "m = 1950, beta = 1, Iteration #: 170000, f_theta = 140323.01039969572\n",
      "m = 1950, beta = 1, Iteration #: 175000, f_theta = 140324.0410049435\n",
      "m = 1950, beta = 1, Iteration #: 180000, f_theta = 140323.01039969572\n",
      "m = 1950, beta = 1, Iteration #: 185000, f_theta = 140324.0410049435\n",
      "m = 1950, beta = 1, Iteration #: 190000, f_theta = 140323.01039969572\n",
      "m = 1950, beta = 1, Iteration #: 195000, f_theta = 140323.01039969572\n",
      "m = 1950, beta = 1, Iteration #: 200000, f_theta = 140323.01039969572\n",
      "m = 1950, beta = 1, Iteration #: 205000, f_theta = 140324.0410049435\n",
      "m = 1950, beta = 1, Iteration #: 210000, f_theta = 140323.01039969572\n",
      "m = 1950, beta = 1, Iteration #: 215000, f_theta = 140323.01039969572\n",
      "m = 1950, beta = 1, Iteration #: 220000, f_theta = 140323.01039969572\n",
      "m = 1950, beta = 1, Iteration #: 225000, f_theta = 140323.01039969572\n",
      "m = 1950, beta = 1, Iteration #: 230000, f_theta = 140323.01039969572\n",
      "m = 1950, beta = 1, Iteration #: 235000, f_theta = 140323.01039969572\n",
      "m = 1950, beta = 1, Iteration #: 240000, f_theta = 140324.0410049435\n",
      "m = 1950, beta = 1, Iteration #: 245000, f_theta = 140323.01039969572\n",
      "\n",
      "----MSE IS: 0.2616 ----\n",
      "\n",
      "m = 1950, beta = 5, Iteration #: 0, f_theta = 2383415.9626633897\n",
      "m = 1950, beta = 5, Iteration #: 5000, f_theta = 432432.7239846028\n",
      "m = 1950, beta = 5, Iteration #: 10000, f_theta = 259892.25306798803\n",
      "m = 1950, beta = 5, Iteration #: 15000, f_theta = 220173.47680997342\n",
      "m = 1950, beta = 5, Iteration #: 20000, f_theta = 195444.22706711694\n",
      "m = 1950, beta = 5, Iteration #: 25000, f_theta = 185380.92764185613\n",
      "m = 1950, beta = 5, Iteration #: 30000, f_theta = 178055.2135675432\n",
      "m = 1950, beta = 5, Iteration #: 35000, f_theta = 174770.9067572733\n",
      "m = 1950, beta = 5, Iteration #: 40000, f_theta = 171541.71892740077\n",
      "m = 1950, beta = 5, Iteration #: 45000, f_theta = 169505.4561478885\n",
      "m = 1950, beta = 5, Iteration #: 50000, f_theta = 165251.30907293136\n",
      "m = 1950, beta = 5, Iteration #: 55000, f_theta = 161593.27700044285\n",
      "m = 1950, beta = 5, Iteration #: 60000, f_theta = 158232.4653390556\n",
      "m = 1950, beta = 5, Iteration #: 65000, f_theta = 156732.36020710613\n",
      "m = 1950, beta = 5, Iteration #: 70000, f_theta = 155523.9199118911\n",
      "m = 1950, beta = 5, Iteration #: 75000, f_theta = 155253.62703620954\n",
      "m = 1950, beta = 5, Iteration #: 80000, f_theta = 155253.62703620954\n",
      "m = 1950, beta = 5, Iteration #: 85000, f_theta = 155253.62703620954\n",
      "m = 1950, beta = 5, Iteration #: 90000, f_theta = 155253.62703620954\n",
      "m = 1950, beta = 5, Iteration #: 95000, f_theta = 155253.62703620954\n",
      "m = 1950, beta = 5, Iteration #: 100000, f_theta = 155253.62703620954\n",
      "m = 1950, beta = 5, Iteration #: 105000, f_theta = 155253.62703620954\n",
      "m = 1950, beta = 5, Iteration #: 110000, f_theta = 155253.62703620954\n",
      "m = 1950, beta = 5, Iteration #: 115000, f_theta = 155253.62703620954\n",
      "m = 1950, beta = 5, Iteration #: 120000, f_theta = 155253.62703620954\n",
      "\n",
      "----MSE IS: 0.3224 ----\n"
     ]
    }
   ],
   "source": [
    "for i, m in enumerate(m_list):\n",
    "    X = np.random.normal(0, 1, size=(m, d))\n",
    "    ksi = np.random.normal(0, sigma, size = m)\n",
    "    y = np.dot(X, theta_true) + ksi\n",
    "    for j, beta in enumerate(beta_list):  \n",
    "        theta_predicted = mh_1_5(X, theta_initial, y, beta, num_iter)\n",
    "        mse = mse_1_5(theta_true, theta_predicted)\n",
    "        print(\"\\n----MSE IS:\", mse, \"----\\n\")\n",
    "        mse_matrix_q1[i][j] = mse\n",
    "    "
   ],
   "metadata": {
    "collapsed": false,
    "ExecuteTime": {
     "end_time": "2023-12-02T17:59:39.117869500Z",
     "start_time": "2023-12-02T17:35:31.754910200Z"
    }
   },
   "id": "b96b0cd4e35ea734"
  },
  {
   "cell_type": "code",
   "execution_count": 22,
   "outputs": [],
   "source": [
    "mse_matrix_q1_df = pd.DataFrame(mse_matrix_q1, index = m_list, columns=beta_list)"
   ],
   "metadata": {
    "collapsed": false,
    "ExecuteTime": {
     "end_time": "2023-12-02T16:26:32.909296800Z",
     "start_time": "2023-12-02T16:26:32.813765300Z"
    }
   },
   "id": "84fffe1929d52671"
  },
  {
   "cell_type": "code",
   "execution_count": 23,
   "outputs": [
    {
     "data": {
      "text/plain": "      0.001   0.005   0.010   0.050   0.100   0.500   1.000   5.000   10.000\n1900  0.5552     0.0     0.0  0.2504  0.2968  0.3024  0.1944  0.2544  0.3048",
      "text/html": "<div>\n<style scoped>\n    .dataframe tbody tr th:only-of-type {\n        vertical-align: middle;\n    }\n\n    .dataframe tbody tr th {\n        vertical-align: top;\n    }\n\n    .dataframe thead th {\n        text-align: right;\n    }\n</style>\n<table border=\"1\" class=\"dataframe\">\n  <thead>\n    <tr style=\"text-align: right;\">\n      <th></th>\n      <th>0.001</th>\n      <th>0.005</th>\n      <th>0.010</th>\n      <th>0.050</th>\n      <th>0.100</th>\n      <th>0.500</th>\n      <th>1.000</th>\n      <th>5.000</th>\n      <th>10.000</th>\n    </tr>\n  </thead>\n  <tbody>\n    <tr>\n      <th>1900</th>\n      <td>0.5552</td>\n      <td>0.0</td>\n      <td>0.0</td>\n      <td>0.2504</td>\n      <td>0.2968</td>\n      <td>0.3024</td>\n      <td>0.1944</td>\n      <td>0.2544</td>\n      <td>0.3048</td>\n    </tr>\n  </tbody>\n</table>\n</div>"
     },
     "execution_count": 23,
     "metadata": {},
     "output_type": "execute_result"
    }
   ],
   "source": [
    "mse_matrix_q1_df"
   ],
   "metadata": {
    "collapsed": false,
    "ExecuteTime": {
     "end_time": "2023-12-02T16:26:35.801868400Z",
     "start_time": "2023-12-02T16:26:35.674610100Z"
    }
   },
   "id": "b9e542606e24f743"
  },
  {
   "cell_type": "code",
   "execution_count": 36,
   "outputs": [
    {
     "data": {
      "text/plain": "        0.5     1.0     5.0     10.0    50.0    100.0\n1      0.9904  1.0032  0.9872  0.9960  1.0088  1.0168\n5      1.0336  0.9944  0.9928  1.0112  1.0128  1.0192\n10     1.0216  1.0152  1.0152  1.0016  1.0056  1.0016\n50     0.9992  1.0040  0.9896  0.9656  0.9720  0.9944\n100    0.9560  0.9592  0.9712  0.9584  0.9824  0.9520\n250    0.8864  0.8824  0.9112  0.8912  0.9088  0.8672\n500    0.7768  0.8144  0.7864  0.7672  0.7952  0.8296\n750    0.7488  0.7512  0.7464  0.7600  0.7152  0.7296\n1000   0.6464  0.6024  0.6424  0.6296  0.6608  0.6128\n1250   0.5552  0.5704  0.5512  0.5344  0.5888  0.5656\n1500   0.4520  0.4816  0.4752  0.4760  0.4616  0.4600\n1750   0.3360  0.3784  0.3312  0.3712  0.3616  0.4000\n2000   0.2592  0.2768  0.0000  0.0000  0.2744  0.2760\n2250   0.0000  0.0000  0.0000  0.0000  0.0000  0.0000\n2400   0.0000  0.0000  0.0000  0.0000  0.0000  0.0000\n2500   0.0000  0.0000  0.0000  0.0000  0.0000  0.0000\n2600   0.0000  0.0000  0.0000  0.0000  0.0000  0.0000\n2750   0.0000  0.0000  0.0000  0.0000  0.0000  0.0000\n3000   0.0000  0.0000  0.0000  0.0000  0.0000  0.0000\n4000   0.0000  0.0000  0.0000  0.0000  0.0000  0.0000\n5000   0.0000  0.0000  0.0000  0.0000  0.0000  0.0000\n10000  0.0000  0.0000  0.0000  0.0000  0.0000  0.0000",
      "text/html": "<div>\n<style scoped>\n    .dataframe tbody tr th:only-of-type {\n        vertical-align: middle;\n    }\n\n    .dataframe tbody tr th {\n        vertical-align: top;\n    }\n\n    .dataframe thead th {\n        text-align: right;\n    }\n</style>\n<table border=\"1\" class=\"dataframe\">\n  <thead>\n    <tr style=\"text-align: right;\">\n      <th></th>\n      <th>0.5</th>\n      <th>1.0</th>\n      <th>5.0</th>\n      <th>10.0</th>\n      <th>50.0</th>\n      <th>100.0</th>\n    </tr>\n  </thead>\n  <tbody>\n    <tr>\n      <th>1</th>\n      <td>0.9904</td>\n      <td>1.0032</td>\n      <td>0.9872</td>\n      <td>0.9960</td>\n      <td>1.0088</td>\n      <td>1.0168</td>\n    </tr>\n    <tr>\n      <th>5</th>\n      <td>1.0336</td>\n      <td>0.9944</td>\n      <td>0.9928</td>\n      <td>1.0112</td>\n      <td>1.0128</td>\n      <td>1.0192</td>\n    </tr>\n    <tr>\n      <th>10</th>\n      <td>1.0216</td>\n      <td>1.0152</td>\n      <td>1.0152</td>\n      <td>1.0016</td>\n      <td>1.0056</td>\n      <td>1.0016</td>\n    </tr>\n    <tr>\n      <th>50</th>\n      <td>0.9992</td>\n      <td>1.0040</td>\n      <td>0.9896</td>\n      <td>0.9656</td>\n      <td>0.9720</td>\n      <td>0.9944</td>\n    </tr>\n    <tr>\n      <th>100</th>\n      <td>0.9560</td>\n      <td>0.9592</td>\n      <td>0.9712</td>\n      <td>0.9584</td>\n      <td>0.9824</td>\n      <td>0.9520</td>\n    </tr>\n    <tr>\n      <th>250</th>\n      <td>0.8864</td>\n      <td>0.8824</td>\n      <td>0.9112</td>\n      <td>0.8912</td>\n      <td>0.9088</td>\n      <td>0.8672</td>\n    </tr>\n    <tr>\n      <th>500</th>\n      <td>0.7768</td>\n      <td>0.8144</td>\n      <td>0.7864</td>\n      <td>0.7672</td>\n      <td>0.7952</td>\n      <td>0.8296</td>\n    </tr>\n    <tr>\n      <th>750</th>\n      <td>0.7488</td>\n      <td>0.7512</td>\n      <td>0.7464</td>\n      <td>0.7600</td>\n      <td>0.7152</td>\n      <td>0.7296</td>\n    </tr>\n    <tr>\n      <th>1000</th>\n      <td>0.6464</td>\n      <td>0.6024</td>\n      <td>0.6424</td>\n      <td>0.6296</td>\n      <td>0.6608</td>\n      <td>0.6128</td>\n    </tr>\n    <tr>\n      <th>1250</th>\n      <td>0.5552</td>\n      <td>0.5704</td>\n      <td>0.5512</td>\n      <td>0.5344</td>\n      <td>0.5888</td>\n      <td>0.5656</td>\n    </tr>\n    <tr>\n      <th>1500</th>\n      <td>0.4520</td>\n      <td>0.4816</td>\n      <td>0.4752</td>\n      <td>0.4760</td>\n      <td>0.4616</td>\n      <td>0.4600</td>\n    </tr>\n    <tr>\n      <th>1750</th>\n      <td>0.3360</td>\n      <td>0.3784</td>\n      <td>0.3312</td>\n      <td>0.3712</td>\n      <td>0.3616</td>\n      <td>0.4000</td>\n    </tr>\n    <tr>\n      <th>2000</th>\n      <td>0.2592</td>\n      <td>0.2768</td>\n      <td>0.0000</td>\n      <td>0.0000</td>\n      <td>0.2744</td>\n      <td>0.2760</td>\n    </tr>\n    <tr>\n      <th>2250</th>\n      <td>0.0000</td>\n      <td>0.0000</td>\n      <td>0.0000</td>\n      <td>0.0000</td>\n      <td>0.0000</td>\n      <td>0.0000</td>\n    </tr>\n    <tr>\n      <th>2400</th>\n      <td>0.0000</td>\n      <td>0.0000</td>\n      <td>0.0000</td>\n      <td>0.0000</td>\n      <td>0.0000</td>\n      <td>0.0000</td>\n    </tr>\n    <tr>\n      <th>2500</th>\n      <td>0.0000</td>\n      <td>0.0000</td>\n      <td>0.0000</td>\n      <td>0.0000</td>\n      <td>0.0000</td>\n      <td>0.0000</td>\n    </tr>\n    <tr>\n      <th>2600</th>\n      <td>0.0000</td>\n      <td>0.0000</td>\n      <td>0.0000</td>\n      <td>0.0000</td>\n      <td>0.0000</td>\n      <td>0.0000</td>\n    </tr>\n    <tr>\n      <th>2750</th>\n      <td>0.0000</td>\n      <td>0.0000</td>\n      <td>0.0000</td>\n      <td>0.0000</td>\n      <td>0.0000</td>\n      <td>0.0000</td>\n    </tr>\n    <tr>\n      <th>3000</th>\n      <td>0.0000</td>\n      <td>0.0000</td>\n      <td>0.0000</td>\n      <td>0.0000</td>\n      <td>0.0000</td>\n      <td>0.0000</td>\n    </tr>\n    <tr>\n      <th>4000</th>\n      <td>0.0000</td>\n      <td>0.0000</td>\n      <td>0.0000</td>\n      <td>0.0000</td>\n      <td>0.0000</td>\n      <td>0.0000</td>\n    </tr>\n    <tr>\n      <th>5000</th>\n      <td>0.0000</td>\n      <td>0.0000</td>\n      <td>0.0000</td>\n      <td>0.0000</td>\n      <td>0.0000</td>\n      <td>0.0000</td>\n    </tr>\n    <tr>\n      <th>10000</th>\n      <td>0.0000</td>\n      <td>0.0000</td>\n      <td>0.0000</td>\n      <td>0.0000</td>\n      <td>0.0000</td>\n      <td>0.0000</td>\n    </tr>\n  </tbody>\n</table>\n</div>"
     },
     "execution_count": 36,
     "metadata": {},
     "output_type": "execute_result"
    }
   ],
   "source": [
    "pd.read_pickle(\"mse_matrix_all_ins.pkl\")"
   ],
   "metadata": {
    "collapsed": false,
    "ExecuteTime": {
     "end_time": "2023-12-02T18:29:48.799032800Z",
     "start_time": "2023-12-02T18:29:48.700296600Z"
    }
   },
   "id": "e3aa58448b364911"
  },
  {
   "cell_type": "code",
   "execution_count": null,
   "outputs": [],
   "source": [],
   "metadata": {
    "collapsed": false
   },
   "id": "7b96c2b947619d7a"
  }
 ],
 "metadata": {
  "kernelspec": {
   "display_name": "Python 3",
   "language": "python",
   "name": "python3"
  },
  "language_info": {
   "codemirror_mode": {
    "name": "ipython",
    "version": 2
   },
   "file_extension": ".py",
   "mimetype": "text/x-python",
   "name": "python",
   "nbconvert_exporter": "python",
   "pygments_lexer": "ipython2",
   "version": "2.7.6"
  }
 },
 "nbformat": 4,
 "nbformat_minor": 5
}
