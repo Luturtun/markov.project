{
 "cells": [
  {
   "cell_type": "code",
   "execution_count": 1,
   "id": "initial_id",
   "metadata": {
    "collapsed": true,
    "ExecuteTime": {
     "end_time": "2023-12-03T00:46:38.585842Z",
     "start_time": "2023-12-03T00:46:37.191067700Z"
    }
   },
   "outputs": [],
   "source": [
    "import random\n",
    "import numpy as np\n",
    "from helpers import *\n",
    "import pandas as pd\n",
    "%load_ext autoreload\n",
    "%autoreload 2"
   ]
  },
  {
   "cell_type": "code",
   "execution_count": 2,
   "outputs": [],
   "source": [
    "#Initialization\n",
    "d = 1500\n",
    "beta = 1\n",
    "sigma = 1\n",
    "num_iter = 100*d\n",
    "\n",
    "# Create a vector with d/100 non-zero values\n",
    "num_non_zero = d // 100\n",
    "theta_true = np.zeros(d)\n",
    "theta_true[:num_non_zero] = 1\n",
    "\n",
    "theta_initial = np.zeros(d)\n",
    "theta_initial[:num_non_zero] = 1\n",
    "\n",
    "# Shuffle the array to randomize the positions of the non-zero values\n",
    "np.random.shuffle(theta_true)\n",
    "np.random.shuffle(theta_initial)"
   ],
   "metadata": {
    "collapsed": false,
    "ExecuteTime": {
     "end_time": "2023-12-03T00:46:42.165505500Z",
     "start_time": "2023-12-03T00:46:41.891678400Z"
    }
   },
   "id": "f70aa72f1d18d0ed"
  },
  {
   "cell_type": "code",
   "execution_count": 3,
   "outputs": [],
   "source": [
    "all_m_list = np.linspace(1, 151, 6).astype(int).tolist() + np.linspace(160, 500, 35).astype(int).tolist()"
   ],
   "metadata": {
    "collapsed": false,
    "ExecuteTime": {
     "end_time": "2023-12-03T00:46:51.881826700Z",
     "start_time": "2023-12-03T00:46:51.626655200Z"
    }
   },
   "id": "b60a4d25defa5ea8"
  },
  {
   "cell_type": "code",
   "execution_count": 4,
   "outputs": [],
   "source": [
    "trial_number = 5"
   ],
   "metadata": {
    "collapsed": false,
    "ExecuteTime": {
     "end_time": "2023-12-03T00:46:58.220444500Z",
     "start_time": "2023-12-03T00:46:57.970682100Z"
    }
   },
   "id": "800da22e7e485bab"
  },
  {
   "cell_type": "code",
   "execution_count": 5,
   "outputs": [],
   "source": [
    "mse_matrices = []"
   ],
   "metadata": {
    "collapsed": false,
    "ExecuteTime": {
     "end_time": "2023-12-03T00:47:04.870936900Z",
     "start_time": "2023-12-03T00:47:04.319792100Z"
    }
   },
   "id": "744996c95056dbee"
  },
  {
   "cell_type": "code",
   "execution_count": null,
   "outputs": [],
   "source": [
    "for k in range(trial_number):\n",
    "    np.random.seed(trial_number)\n",
    "    mse_matrix_q3 = np.zeros(len(all_m_list))\n",
    "    for i, m in enumerate(all_m_list):\n",
    "        X = np.random.normal(0, 1, size=(m, d))\n",
    "        ksi = np.random.normal(0, sigma, size = m)\n",
    "        y = np.dot(X, theta_true) + ksi\n",
    "        y = np.sign(y) + (y == 0)\n",
    "        theta_predicted = simulated_annealing_mh_3(X, theta_initial, y, beta_2m_start=1, beta_2m_end=30, seq_length=100, num_iter=num_iter)\n",
    "        mse = mse_sparse(theta_true, theta_predicted, num_non_zero)\n",
    "        print(\"\\n----MSE IS:\", mse, \"----\\n\")\n",
    "        mse_matrix_q3[i] = mse\n",
    "    mse_matrix_q3 = pd.DataFrame(mse_matrix_q3, index = all_m_list, columns=['sa'])\n",
    "    mse_matrix_q3.to_pickle(\"sa_q3_final_\" + str(k) + \".pkl\")\n",
    "    mse_matrices.append(mse_matrix_q3)"
   ],
   "metadata": {
    "collapsed": false
   },
   "id": "3a07e835a8752f8b"
  }
 ],
 "metadata": {
  "kernelspec": {
   "display_name": "Python 3",
   "language": "python",
   "name": "python3"
  },
  "language_info": {
   "codemirror_mode": {
    "name": "ipython",
    "version": 2
   },
   "file_extension": ".py",
   "mimetype": "text/x-python",
   "name": "python",
   "nbconvert_exporter": "python",
   "pygments_lexer": "ipython2",
   "version": "2.7.6"
  }
 },
 "nbformat": 4,
 "nbformat_minor": 5
}
