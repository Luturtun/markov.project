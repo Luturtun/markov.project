{
 "cells": [
  {
   "cell_type": "code",
   "execution_count": 13,
   "id": "initial_id",
   "metadata": {
    "collapsed": true,
    "ExecuteTime": {
     "end_time": "2023-12-01T00:31:06.801920600Z",
     "start_time": "2023-12-01T00:31:06.706178100Z"
    }
   },
   "outputs": [
    {
     "name": "stdout",
     "output_type": "stream",
     "text": [
      "The autoreload extension is already loaded. To reload it, use:\n",
      "  %reload_ext autoreload\n"
     ]
    }
   ],
   "source": [
    "import random\n",
    "import numpy as np\n",
    "from helpers import *\n",
    "import pandas as pd\n",
    "%load_ext autoreload\n",
    "%autoreload 2"
   ]
  },
  {
   "cell_type": "markdown",
   "source": [
    "TASK 1.5"
   ],
   "metadata": {
    "collapsed": false
   },
   "id": "23e0de40f32968e3"
  },
  {
   "cell_type": "code",
   "execution_count": 14,
   "outputs": [],
   "source": [
    "#Initialization\n",
    "#m = 3000\n",
    "d = 2500\n",
    "beta = 1\n",
    "sigma = 1\n",
    "num_iter = 100*d\n",
    "np.random.seed(2)\n",
    "#X = np.random.normal(0, 1, size=(m, d))\n",
    "#ksi = np.random.normal(0, sigma, size = m)\n",
    "\n",
    "# Create a vector with d/100 non-zero values\n",
    "num_non_zero = d // 100\n",
    "theta_true = np.zeros(d)\n",
    "theta_true[:num_non_zero] = 1\n",
    "\n",
    "theta_initial = np.zeros(d)\n",
    "theta_initial[:num_non_zero] = 1\n",
    "\n",
    "# Shuffle the array to randomize the positions of the non-zero values\n",
    "np.random.shuffle(theta_true)\n",
    "np.random.shuffle(theta_initial)\n",
    "#y = np.dot(X, theta_true) + ksi"
   ],
   "metadata": {
    "collapsed": false,
    "ExecuteTime": {
     "end_time": "2023-12-01T00:31:44.612562300Z",
     "start_time": "2023-12-01T00:31:44.512199600Z"
    }
   },
   "id": "6a5e3e3db106dc23"
  },
  {
   "cell_type": "code",
   "execution_count": 15,
   "outputs": [],
   "source": [
    "mse_matrix_all = pd.read_pickle(\"mse_matrix_all_2.pkl\")\n",
    "all_m_list = mse_matrix_all.index.tolist()[:-9]"
   ],
   "metadata": {
    "collapsed": false,
    "ExecuteTime": {
     "end_time": "2023-12-01T00:31:45.362182Z",
     "start_time": "2023-12-01T00:31:45.263446100Z"
    }
   },
   "id": "eb51a8c753ba737d"
  },
  {
   "cell_type": "code",
   "execution_count": 16,
   "outputs": [],
   "source": [
    "mse_matrix_q2 = np.zeros(len(all_m_list))"
   ],
   "metadata": {
    "collapsed": false,
    "ExecuteTime": {
     "end_time": "2023-12-01T00:31:45.923278500Z",
     "start_time": "2023-12-01T00:31:45.825539Z"
    }
   },
   "id": "96dd695dd5892196"
  },
  {
   "cell_type": "code",
   "execution_count": 18,
   "outputs": [
    {
     "name": "stdout",
     "output_type": "stream",
     "text": [
      "m = 1, beta = 1, Iteration #: 0, f_theta = 231.81079457287905\n",
      "m = 1, beta = 1, Iteration #: 5000, f_theta = 0.01945130774086069\n",
      "m = 1, beta = 1, Iteration #: 10000, f_theta = 0.614544384589712\n",
      "m = 1, beta = 1, Iteration #: 15000, f_theta = 1.1068885463270561\n",
      "m = 1, beta = 1, Iteration #: 20000, f_theta = 0.036528552483738784\n",
      "m = 1, beta = 1, Iteration #: 25000, f_theta = 0.005341876451041465\n",
      "m = 1, beta = 1, Iteration #: 30000, f_theta = 0.5864863858565765\n",
      "m = 1, beta = 1, Iteration #: 35000, f_theta = 0.48106303521148475\n",
      "m = 1, beta = 1, Iteration #: 40000, f_theta = 0.8183516764726237\n",
      "m = 1, beta = 1, Iteration #: 45000, f_theta = 0.11657671042641808\n",
      "m = 1, beta = 1, Iteration #: 50000, f_theta = 0.7647822988722287\n",
      "m = 1, beta = 1, Iteration #: 55000, f_theta = 0.5808004891615572\n",
      "m = 1, beta = 1, Iteration #: 60000, f_theta = 0.6499145115881076\n",
      "m = 1, beta = 1, Iteration #: 65000, f_theta = 0.009549162267565305\n",
      "m = 1, beta = 1, Iteration #: 70000, f_theta = 0.018746197622137008\n",
      "m = 1, beta = 1, Iteration #: 75000, f_theta = 0.20969875491828388\n",
      "m = 1, beta = 1, Iteration #: 80000, f_theta = 0.12902846172871552\n",
      "m = 1, beta = 1, Iteration #: 85000, f_theta = 0.3554475827396382\n",
      "m = 1, beta = 1, Iteration #: 90000, f_theta = 0.17767679078184928\n",
      "m = 1, beta = 1, Iteration #: 95000, f_theta = 0.059009025377937306\n",
      "m = 1, beta = 1, Iteration #: 100000, f_theta = 1.070494102831239\n",
      "m = 1, beta = 1, Iteration #: 105000, f_theta = 2.2797511589859742\n",
      "m = 1, beta = 1, Iteration #: 110000, f_theta = 4.0739490155912845\n",
      "m = 1, beta = 1, Iteration #: 115000, f_theta = 3.447450919991116\n",
      "m = 1, beta = 1, Iteration #: 120000, f_theta = 0.029813241905852033\n",
      "m = 1, beta = 1, Iteration #: 125000, f_theta = 0.07411036680755652\n",
      "m = 1, beta = 1, Iteration #: 130000, f_theta = 1.9290936277340145\n",
      "m = 1, beta = 1, Iteration #: 135000, f_theta = 0.224368975311951\n",
      "m = 1, beta = 1, Iteration #: 140000, f_theta = 0.9755396440764842\n",
      "m = 1, beta = 1, Iteration #: 145000, f_theta = 0.01975419140200671\n",
      "m = 1, beta = 1, Iteration #: 150000, f_theta = 0.7433690037292076\n",
      "m = 1, beta = 1, Iteration #: 155000, f_theta = 0.03943923592158996\n",
      "m = 1, beta = 1, Iteration #: 160000, f_theta = 0.7575098982789582\n",
      "m = 1, beta = 1, Iteration #: 165000, f_theta = 1.056615286360423\n",
      "m = 1, beta = 1, Iteration #: 170000, f_theta = 0.0536304361179777\n",
      "m = 1, beta = 1, Iteration #: 175000, f_theta = 0.056958231080218684\n",
      "m = 1, beta = 1, Iteration #: 180000, f_theta = 0.03418979529332904\n",
      "m = 1, beta = 1, Iteration #: 185000, f_theta = 0.14386467818375454\n",
      "m = 1, beta = 1, Iteration #: 190000, f_theta = 0.013806142182924102\n",
      "m = 1, beta = 1, Iteration #: 195000, f_theta = 0.024084234649651412\n",
      "m = 1, beta = 1, Iteration #: 200000, f_theta = 0.39738588876381126\n",
      "m = 1, beta = 1, Iteration #: 205000, f_theta = 1.3190770318660427\n",
      "m = 1, beta = 1, Iteration #: 210000, f_theta = 0.10328038428951868\n",
      "m = 1, beta = 1, Iteration #: 215000, f_theta = 0.09299925107234842\n",
      "m = 1, beta = 1, Iteration #: 220000, f_theta = 0.0691106791605703\n",
      "m = 1, beta = 1, Iteration #: 225000, f_theta = 0.0006201539618331199\n",
      "m = 1, beta = 1, Iteration #: 230000, f_theta = 0.5530310793855148\n",
      "m = 1, beta = 1, Iteration #: 235000, f_theta = 0.08191923694347844\n",
      "m = 1, beta = 1, Iteration #: 240000, f_theta = 0.7646694612354554\n",
      "m = 1, beta = 1, Iteration #: 245000, f_theta = 0.5185619136953716\n",
      "\n",
      "----MSE IS: 0.04 ----\n",
      "\n",
      "m = 5, beta = 1, Iteration #: 0, f_theta = 163.8787984647973\n",
      "m = 5, beta = 1, Iteration #: 5000, f_theta = 2.9376241540507264\n",
      "m = 5, beta = 1, Iteration #: 10000, f_theta = 2.8942294965696336\n",
      "m = 5, beta = 1, Iteration #: 15000, f_theta = 1.75111392852135\n",
      "m = 5, beta = 1, Iteration #: 20000, f_theta = 2.3893311907856556\n",
      "m = 5, beta = 1, Iteration #: 25000, f_theta = 0.5589540681175985\n",
      "m = 5, beta = 1, Iteration #: 30000, f_theta = 1.0027083522921942\n",
      "m = 5, beta = 1, Iteration #: 35000, f_theta = 3.300170809328263\n",
      "m = 5, beta = 1, Iteration #: 40000, f_theta = 0.3433737966462927\n",
      "m = 5, beta = 1, Iteration #: 45000, f_theta = 6.214660287881311\n",
      "m = 5, beta = 1, Iteration #: 50000, f_theta = 3.0944919423007295\n",
      "m = 5, beta = 1, Iteration #: 55000, f_theta = 2.0974736743740654\n",
      "m = 5, beta = 1, Iteration #: 60000, f_theta = 2.0399294382886954\n",
      "m = 5, beta = 1, Iteration #: 65000, f_theta = 4.245083854675382\n",
      "m = 5, beta = 1, Iteration #: 70000, f_theta = 1.602405726975257\n",
      "m = 5, beta = 1, Iteration #: 75000, f_theta = 3.119631293203012\n",
      "m = 5, beta = 1, Iteration #: 80000, f_theta = 1.7833385260031234\n",
      "m = 5, beta = 1, Iteration #: 85000, f_theta = 2.2285892460663588\n",
      "m = 5, beta = 1, Iteration #: 90000, f_theta = 1.6791035957415241\n",
      "m = 5, beta = 1, Iteration #: 95000, f_theta = 2.601440357190747\n",
      "m = 5, beta = 1, Iteration #: 100000, f_theta = 2.327910554233657\n",
      "m = 5, beta = 1, Iteration #: 105000, f_theta = 4.933456841969715\n",
      "m = 5, beta = 1, Iteration #: 110000, f_theta = 2.068747587099768\n",
      "m = 5, beta = 1, Iteration #: 115000, f_theta = 1.0562230864450601\n",
      "m = 5, beta = 1, Iteration #: 120000, f_theta = 3.044213218586592\n",
      "m = 5, beta = 1, Iteration #: 125000, f_theta = 1.3512510394651502\n",
      "m = 5, beta = 1, Iteration #: 130000, f_theta = 1.0598922637615764\n",
      "m = 5, beta = 1, Iteration #: 135000, f_theta = 0.6006008683977563\n",
      "m = 5, beta = 1, Iteration #: 140000, f_theta = 3.13653448165594\n",
      "m = 5, beta = 1, Iteration #: 145000, f_theta = 2.0557709583003856\n",
      "m = 5, beta = 1, Iteration #: 150000, f_theta = 0.729953241506801\n",
      "m = 5, beta = 1, Iteration #: 155000, f_theta = 1.3044036144523916\n",
      "m = 5, beta = 1, Iteration #: 160000, f_theta = 1.673313689775645\n",
      "m = 5, beta = 1, Iteration #: 165000, f_theta = 1.213389775164374\n",
      "m = 5, beta = 1, Iteration #: 170000, f_theta = 1.368943572997714\n",
      "m = 5, beta = 1, Iteration #: 175000, f_theta = 3.145374733746668\n",
      "m = 5, beta = 1, Iteration #: 180000, f_theta = 0.8642033044017259\n",
      "m = 5, beta = 1, Iteration #: 185000, f_theta = 3.385806738874261\n",
      "m = 5, beta = 1, Iteration #: 190000, f_theta = 3.873261626864606\n",
      "m = 5, beta = 1, Iteration #: 195000, f_theta = 1.8482245400579032\n",
      "m = 5, beta = 1, Iteration #: 200000, f_theta = 1.6913006000043653\n",
      "m = 5, beta = 1, Iteration #: 205000, f_theta = 2.8771382496293527\n",
      "m = 5, beta = 1, Iteration #: 210000, f_theta = 4.00609248591329\n",
      "m = 5, beta = 1, Iteration #: 215000, f_theta = 2.81324982255993\n",
      "m = 5, beta = 1, Iteration #: 220000, f_theta = 3.191455364817753\n",
      "m = 5, beta = 1, Iteration #: 225000, f_theta = 1.808320532855622\n",
      "m = 5, beta = 1, Iteration #: 230000, f_theta = 2.631161458856478\n",
      "m = 5, beta = 1, Iteration #: 235000, f_theta = 0.8496896808669654\n",
      "m = 5, beta = 1, Iteration #: 240000, f_theta = 3.3857779371513423\n",
      "m = 5, beta = 1, Iteration #: 245000, f_theta = 1.3972045317113895\n",
      "\n",
      "----MSE IS: 0.038400000000000004 ----\n",
      "\n",
      "m = 10, beta = 1, Iteration #: 0, f_theta = 788.4428639417083\n",
      "m = 10, beta = 1, Iteration #: 5000, f_theta = 3.865677680242748\n",
      "m = 10, beta = 1, Iteration #: 10000, f_theta = 2.7408238990943663\n",
      "m = 10, beta = 1, Iteration #: 15000, f_theta = 1.5565394237291255\n",
      "m = 10, beta = 1, Iteration #: 20000, f_theta = 3.8020713594459727\n",
      "m = 10, beta = 1, Iteration #: 25000, f_theta = 2.939924343313806\n",
      "m = 10, beta = 1, Iteration #: 30000, f_theta = 5.68821678562495\n",
      "m = 10, beta = 1, Iteration #: 35000, f_theta = 4.312275521272975\n",
      "m = 10, beta = 1, Iteration #: 40000, f_theta = 2.239360328431063\n",
      "m = 10, beta = 1, Iteration #: 45000, f_theta = 3.0763810440248633\n",
      "m = 10, beta = 1, Iteration #: 50000, f_theta = 4.211442545735063\n",
      "m = 10, beta = 1, Iteration #: 55000, f_theta = 1.6845523823823219\n",
      "m = 10, beta = 1, Iteration #: 60000, f_theta = 3.4726453139932185\n",
      "m = 10, beta = 1, Iteration #: 65000, f_theta = 5.298445894720381\n",
      "m = 10, beta = 1, Iteration #: 70000, f_theta = 4.401501774510097\n",
      "m = 10, beta = 1, Iteration #: 75000, f_theta = 2.190708946135362\n",
      "m = 10, beta = 1, Iteration #: 80000, f_theta = 4.47292589247611\n",
      "m = 10, beta = 1, Iteration #: 85000, f_theta = 1.972083571412062\n",
      "m = 10, beta = 1, Iteration #: 90000, f_theta = 3.9530654124762057\n",
      "m = 10, beta = 1, Iteration #: 95000, f_theta = 4.015661211952031\n",
      "m = 10, beta = 1, Iteration #: 100000, f_theta = 2.5640832997821814\n",
      "m = 10, beta = 1, Iteration #: 105000, f_theta = 5.373161520075042\n",
      "m = 10, beta = 1, Iteration #: 110000, f_theta = 9.91277989996979\n",
      "m = 10, beta = 1, Iteration #: 115000, f_theta = 4.311080823608759\n",
      "m = 10, beta = 1, Iteration #: 120000, f_theta = 4.402306458773639\n",
      "m = 10, beta = 1, Iteration #: 125000, f_theta = 3.1863335632788385\n",
      "m = 10, beta = 1, Iteration #: 130000, f_theta = 5.802557675094769\n",
      "m = 10, beta = 1, Iteration #: 135000, f_theta = 9.129221689217088\n",
      "m = 10, beta = 1, Iteration #: 140000, f_theta = 4.03207634509776\n",
      "m = 10, beta = 1, Iteration #: 145000, f_theta = 6.194903174916668\n",
      "m = 10, beta = 1, Iteration #: 150000, f_theta = 3.552580180445474\n",
      "m = 10, beta = 1, Iteration #: 155000, f_theta = 4.223640986216706\n",
      "m = 10, beta = 1, Iteration #: 160000, f_theta = 2.180231395480531\n",
      "m = 10, beta = 1, Iteration #: 165000, f_theta = 2.6775784795023907\n",
      "m = 10, beta = 1, Iteration #: 170000, f_theta = 2.270185423005043\n",
      "m = 10, beta = 1, Iteration #: 175000, f_theta = 6.1768031320569845\n",
      "m = 10, beta = 1, Iteration #: 180000, f_theta = 6.61082259702207\n",
      "m = 10, beta = 1, Iteration #: 185000, f_theta = 1.9386448477272595\n",
      "m = 10, beta = 1, Iteration #: 190000, f_theta = 7.079731511495801\n",
      "m = 10, beta = 1, Iteration #: 195000, f_theta = 8.238368090720547\n",
      "m = 10, beta = 1, Iteration #: 200000, f_theta = 2.889429858728172\n",
      "m = 10, beta = 1, Iteration #: 205000, f_theta = 8.62129965550204\n",
      "m = 10, beta = 1, Iteration #: 210000, f_theta = 7.816313252175824\n",
      "m = 10, beta = 1, Iteration #: 215000, f_theta = 3.0062181233899947\n",
      "m = 10, beta = 1, Iteration #: 220000, f_theta = 3.219122000692941\n",
      "m = 10, beta = 1, Iteration #: 225000, f_theta = 4.637878608597943\n",
      "m = 10, beta = 1, Iteration #: 230000, f_theta = 4.670016527361875\n",
      "m = 10, beta = 1, Iteration #: 235000, f_theta = 2.5317898156578247\n",
      "m = 10, beta = 1, Iteration #: 240000, f_theta = 1.724766936013524\n",
      "m = 10, beta = 1, Iteration #: 245000, f_theta = 4.145398326979463\n",
      "\n",
      "----MSE IS: 0.038400000000000004 ----\n",
      "\n",
      "m = 50, beta = 1, Iteration #: 0, f_theta = 2531.5405535499935\n",
      "m = 50, beta = 1, Iteration #: 5000, f_theta = 130.73665892367856\n",
      "m = 50, beta = 1, Iteration #: 10000, f_theta = 130.73665892367856\n",
      "m = 50, beta = 1, Iteration #: 15000, f_theta = 130.73665892367856\n",
      "m = 50, beta = 1, Iteration #: 20000, f_theta = 130.73665892367856\n",
      "m = 50, beta = 1, Iteration #: 25000, f_theta = 130.73665892367856\n",
      "m = 50, beta = 1, Iteration #: 30000, f_theta = 130.73665892367856\n",
      "m = 50, beta = 1, Iteration #: 35000, f_theta = 130.73665892367856\n",
      "m = 50, beta = 1, Iteration #: 40000, f_theta = 128.9393552705648\n",
      "m = 50, beta = 1, Iteration #: 45000, f_theta = 122.8172128727702\n",
      "m = 50, beta = 1, Iteration #: 50000, f_theta = 86.0767697534246\n",
      "m = 50, beta = 1, Iteration #: 55000, f_theta = 86.0767697534246\n",
      "m = 50, beta = 1, Iteration #: 60000, f_theta = 86.0767697534246\n",
      "m = 50, beta = 1, Iteration #: 65000, f_theta = 86.0767697534246\n",
      "m = 50, beta = 1, Iteration #: 70000, f_theta = 86.0767697534246\n",
      "m = 50, beta = 1, Iteration #: 75000, f_theta = 86.0767697534246\n",
      "m = 50, beta = 1, Iteration #: 80000, f_theta = 86.0767697534246\n",
      "m = 50, beta = 1, Iteration #: 85000, f_theta = 86.0767697534246\n",
      "m = 50, beta = 1, Iteration #: 90000, f_theta = 88.61815544247175\n",
      "m = 50, beta = 1, Iteration #: 95000, f_theta = 87.7870265498199\n",
      "m = 50, beta = 1, Iteration #: 100000, f_theta = 87.7870265498199\n",
      "m = 50, beta = 1, Iteration #: 105000, f_theta = 87.7870265498199\n",
      "m = 50, beta = 1, Iteration #: 110000, f_theta = 86.85151445531817\n",
      "m = 50, beta = 1, Iteration #: 115000, f_theta = 86.85151445531817\n",
      "m = 50, beta = 1, Iteration #: 120000, f_theta = 86.13974221032484\n",
      "m = 50, beta = 1, Iteration #: 125000, f_theta = 86.13974221032484\n",
      "m = 50, beta = 1, Iteration #: 130000, f_theta = 86.13974221032484\n",
      "m = 50, beta = 1, Iteration #: 135000, f_theta = 86.13974221032484\n",
      "m = 50, beta = 1, Iteration #: 140000, f_theta = 86.13974221032484\n",
      "m = 50, beta = 1, Iteration #: 145000, f_theta = 84.82091399780673\n",
      "m = 50, beta = 1, Iteration #: 150000, f_theta = 85.67829265001858\n",
      "m = 50, beta = 1, Iteration #: 155000, f_theta = 74.22293526982321\n",
      "m = 50, beta = 1, Iteration #: 160000, f_theta = 74.22293526982321\n",
      "m = 50, beta = 1, Iteration #: 165000, f_theta = 74.22293526982321\n",
      "m = 50, beta = 1, Iteration #: 170000, f_theta = 74.22293526982321\n",
      "m = 50, beta = 1, Iteration #: 175000, f_theta = 74.22293526982321\n",
      "m = 50, beta = 1, Iteration #: 180000, f_theta = 74.22293526982321\n",
      "m = 50, beta = 1, Iteration #: 185000, f_theta = 74.22293526982321\n",
      "m = 50, beta = 1, Iteration #: 190000, f_theta = 74.22293526982321\n",
      "m = 50, beta = 1, Iteration #: 195000, f_theta = 74.22293526982321\n",
      "m = 50, beta = 1, Iteration #: 200000, f_theta = 74.22293526982321\n",
      "\n",
      "----MSE IS: 0.038400000000000004 ----\n",
      "\n",
      "m = 100, beta = 1, Iteration #: 0, f_theta = 6194.771060337213\n",
      "m = 100, beta = 1, Iteration #: 5000, f_theta = 534.2535208625358\n",
      "m = 100, beta = 1, Iteration #: 10000, f_theta = 523.9066663791493\n",
      "m = 100, beta = 1, Iteration #: 15000, f_theta = 460.32691385447566\n",
      "m = 100, beta = 1, Iteration #: 20000, f_theta = 386.2836194868661\n",
      "m = 100, beta = 1, Iteration #: 25000, f_theta = 386.2836194868661\n",
      "m = 100, beta = 1, Iteration #: 30000, f_theta = 384.0717327008277\n",
      "m = 100, beta = 1, Iteration #: 35000, f_theta = 384.0717327008277\n",
      "m = 100, beta = 1, Iteration #: 40000, f_theta = 381.19890817418684\n",
      "m = 100, beta = 1, Iteration #: 45000, f_theta = 366.9021314209752\n",
      "m = 100, beta = 1, Iteration #: 50000, f_theta = 366.9021314209752\n",
      "m = 100, beta = 1, Iteration #: 55000, f_theta = 366.9021314209752\n",
      "m = 100, beta = 1, Iteration #: 60000, f_theta = 366.9021314209752\n",
      "m = 100, beta = 1, Iteration #: 65000, f_theta = 366.9021314209752\n",
      "m = 100, beta = 1, Iteration #: 70000, f_theta = 366.9021314209752\n",
      "m = 100, beta = 1, Iteration #: 75000, f_theta = 366.9021314209752\n",
      "m = 100, beta = 1, Iteration #: 80000, f_theta = 366.9021314209752\n",
      "m = 100, beta = 1, Iteration #: 85000, f_theta = 366.9021314209752\n",
      "m = 100, beta = 1, Iteration #: 90000, f_theta = 366.9021314209752\n",
      "\n",
      "----MSE IS: 0.038400000000000004 ----\n",
      "\n",
      "m = 250, beta = 1, Iteration #: 0, f_theta = 11973.212040092068\n",
      "m = 250, beta = 1, Iteration #: 5000, f_theta = 2958.429295646616\n",
      "m = 250, beta = 1, Iteration #: 10000, f_theta = 2643.1755604288774\n",
      "m = 250, beta = 1, Iteration #: 15000, f_theta = 2460.7070402854742\n",
      "m = 250, beta = 1, Iteration #: 20000, f_theta = 2255.059383198483\n",
      "m = 250, beta = 1, Iteration #: 25000, f_theta = 2182.1347166644873\n",
      "m = 250, beta = 1, Iteration #: 30000, f_theta = 1560.88617199835\n",
      "m = 250, beta = 1, Iteration #: 35000, f_theta = 1232.0345988942981\n",
      "m = 250, beta = 1, Iteration #: 40000, f_theta = 1088.86782095804\n",
      "m = 250, beta = 1, Iteration #: 45000, f_theta = 1088.86782095804\n",
      "m = 250, beta = 1, Iteration #: 50000, f_theta = 1080.2292649277938\n",
      "m = 250, beta = 1, Iteration #: 55000, f_theta = 755.0378795617773\n",
      "m = 250, beta = 1, Iteration #: 60000, f_theta = 755.0378795617773\n",
      "m = 250, beta = 1, Iteration #: 65000, f_theta = 755.0378795617773\n",
      "m = 250, beta = 1, Iteration #: 70000, f_theta = 755.0378795617773\n",
      "m = 250, beta = 1, Iteration #: 75000, f_theta = 584.5377560699421\n",
      "m = 250, beta = 1, Iteration #: 80000, f_theta = 504.3750429833602\n",
      "m = 250, beta = 1, Iteration #: 85000, f_theta = 504.3750429833602\n",
      "m = 250, beta = 1, Iteration #: 90000, f_theta = 504.3750429833602\n",
      "m = 250, beta = 1, Iteration #: 95000, f_theta = 504.3750429833602\n",
      "m = 250, beta = 1, Iteration #: 100000, f_theta = 504.3750429833602\n",
      "m = 250, beta = 1, Iteration #: 105000, f_theta = 504.3750429833602\n",
      "m = 250, beta = 1, Iteration #: 110000, f_theta = 504.3750429833602\n",
      "m = 250, beta = 1, Iteration #: 115000, f_theta = 234.078467898157\n",
      "m = 250, beta = 1, Iteration #: 120000, f_theta = 234.078467898157\n",
      "m = 250, beta = 1, Iteration #: 125000, f_theta = 234.078467898157\n",
      "m = 250, beta = 1, Iteration #: 130000, f_theta = 234.078467898157\n",
      "m = 250, beta = 1, Iteration #: 135000, f_theta = 234.078467898157\n",
      "m = 250, beta = 1, Iteration #: 140000, f_theta = 234.078467898157\n",
      "m = 250, beta = 1, Iteration #: 145000, f_theta = 234.078467898157\n",
      "m = 250, beta = 1, Iteration #: 150000, f_theta = 234.078467898157\n",
      "m = 250, beta = 1, Iteration #: 155000, f_theta = 234.078467898157\n",
      "m = 250, beta = 1, Iteration #: 160000, f_theta = 234.078467898157\n",
      "\n",
      "----MSE IS: 0.0 ----\n",
      "\n",
      "m = 500, beta = 1, Iteration #: 0, f_theta = 25081.77485863883\n",
      "m = 500, beta = 1, Iteration #: 5000, f_theta = 5921.115067193159\n",
      "m = 500, beta = 1, Iteration #: 10000, f_theta = 4191.5739060534\n",
      "m = 500, beta = 1, Iteration #: 15000, f_theta = 3102.3889873171674\n",
      "m = 500, beta = 1, Iteration #: 20000, f_theta = 3070.1187081931207\n",
      "m = 500, beta = 1, Iteration #: 25000, f_theta = 2575.87632891641\n",
      "m = 500, beta = 1, Iteration #: 30000, f_theta = 2564.6364629298196\n",
      "m = 500, beta = 1, Iteration #: 35000, f_theta = 2564.6364629298196\n",
      "m = 500, beta = 1, Iteration #: 40000, f_theta = 2542.3835556929766\n",
      "m = 500, beta = 1, Iteration #: 45000, f_theta = 1952.3879638748053\n",
      "m = 500, beta = 1, Iteration #: 50000, f_theta = 1888.8693978702177\n",
      "m = 500, beta = 1, Iteration #: 55000, f_theta = 1244.4452734065007\n",
      "m = 500, beta = 1, Iteration #: 60000, f_theta = 1244.4452734065007\n",
      "m = 500, beta = 1, Iteration #: 65000, f_theta = 1244.4452734065007\n",
      "m = 500, beta = 1, Iteration #: 70000, f_theta = 1244.4452734065007\n",
      "m = 500, beta = 1, Iteration #: 75000, f_theta = 1244.4452734065007\n",
      "m = 500, beta = 1, Iteration #: 80000, f_theta = 1244.4452734065007\n",
      "m = 500, beta = 1, Iteration #: 85000, f_theta = 1235.9994594642365\n",
      "m = 500, beta = 1, Iteration #: 90000, f_theta = 1235.9994594642365\n",
      "m = 500, beta = 1, Iteration #: 95000, f_theta = 1235.9994594642365\n",
      "m = 500, beta = 1, Iteration #: 100000, f_theta = 1235.9994594642365\n",
      "m = 500, beta = 1, Iteration #: 105000, f_theta = 1235.9994594642365\n",
      "m = 500, beta = 1, Iteration #: 110000, f_theta = 495.50080152925057\n",
      "m = 500, beta = 1, Iteration #: 115000, f_theta = 495.50080152925057\n",
      "m = 500, beta = 1, Iteration #: 120000, f_theta = 495.50080152925057\n",
      "m = 500, beta = 1, Iteration #: 125000, f_theta = 495.50080152925057\n",
      "m = 500, beta = 1, Iteration #: 130000, f_theta = 495.50080152925057\n",
      "m = 500, beta = 1, Iteration #: 135000, f_theta = 495.50080152925057\n",
      "m = 500, beta = 1, Iteration #: 140000, f_theta = 495.50080152925057\n",
      "m = 500, beta = 1, Iteration #: 145000, f_theta = 495.50080152925057\n",
      "m = 500, beta = 1, Iteration #: 150000, f_theta = 495.50080152925057\n",
      "m = 500, beta = 1, Iteration #: 155000, f_theta = 495.50080152925057\n",
      "\n",
      "----MSE IS: 0.0 ----\n",
      "\n",
      "m = 750, beta = 1, Iteration #: 0, f_theta = 39997.65908724443\n",
      "m = 750, beta = 1, Iteration #: 5000, f_theta = 7777.80713245212\n",
      "m = 750, beta = 1, Iteration #: 10000, f_theta = 4072.3617129445965\n",
      "m = 750, beta = 1, Iteration #: 15000, f_theta = 2847.083561502207\n",
      "m = 750, beta = 1, Iteration #: 20000, f_theta = 1901.360177181377\n",
      "m = 750, beta = 1, Iteration #: 25000, f_theta = 1864.0960740395124\n",
      "m = 750, beta = 1, Iteration #: 30000, f_theta = 1864.0960740395124\n",
      "m = 750, beta = 1, Iteration #: 35000, f_theta = 1864.0960740395124\n",
      "m = 750, beta = 1, Iteration #: 40000, f_theta = 1864.0960740395124\n",
      "m = 750, beta = 1, Iteration #: 45000, f_theta = 1864.0960740395124\n",
      "m = 750, beta = 1, Iteration #: 50000, f_theta = 1864.0960740395124\n",
      "m = 750, beta = 1, Iteration #: 55000, f_theta = 1864.0960740395124\n",
      "m = 750, beta = 1, Iteration #: 60000, f_theta = 758.5200503009958\n",
      "m = 750, beta = 1, Iteration #: 65000, f_theta = 758.5200503009958\n",
      "m = 750, beta = 1, Iteration #: 70000, f_theta = 758.5200503009958\n",
      "m = 750, beta = 1, Iteration #: 75000, f_theta = 758.5200503009958\n",
      "m = 750, beta = 1, Iteration #: 80000, f_theta = 758.5200503009958\n",
      "m = 750, beta = 1, Iteration #: 85000, f_theta = 758.5200503009958\n",
      "m = 750, beta = 1, Iteration #: 90000, f_theta = 758.5200503009958\n",
      "m = 750, beta = 1, Iteration #: 95000, f_theta = 758.5200503009958\n",
      "m = 750, beta = 1, Iteration #: 100000, f_theta = 758.5200503009958\n",
      "m = 750, beta = 1, Iteration #: 105000, f_theta = 758.5200503009958\n",
      "\n",
      "----MSE IS: 0.0 ----\n",
      "\n",
      "m = 1000, beta = 1, Iteration #: 0, f_theta = 48271.08923483945\n",
      "m = 1000, beta = 1, Iteration #: 5000, f_theta = 15727.535065847867\n",
      "m = 1000, beta = 1, Iteration #: 10000, f_theta = 9851.879716541254\n",
      "m = 1000, beta = 1, Iteration #: 15000, f_theta = 6903.725173019202\n",
      "m = 1000, beta = 1, Iteration #: 20000, f_theta = 6903.725173019202\n",
      "m = 1000, beta = 1, Iteration #: 25000, f_theta = 5592.592794058687\n",
      "m = 1000, beta = 1, Iteration #: 30000, f_theta = 5467.810436928574\n",
      "m = 1000, beta = 1, Iteration #: 35000, f_theta = 5467.810436928574\n",
      "m = 1000, beta = 1, Iteration #: 40000, f_theta = 5467.810436928574\n",
      "m = 1000, beta = 1, Iteration #: 45000, f_theta = 4355.2631709903035\n",
      "m = 1000, beta = 1, Iteration #: 50000, f_theta = 2677.9708845289824\n",
      "m = 1000, beta = 1, Iteration #: 55000, f_theta = 2677.9708845289824\n",
      "m = 1000, beta = 1, Iteration #: 60000, f_theta = 2677.9708845289824\n",
      "m = 1000, beta = 1, Iteration #: 65000, f_theta = 2657.5904520324434\n",
      "m = 1000, beta = 1, Iteration #: 70000, f_theta = 2594.707455000089\n",
      "m = 1000, beta = 1, Iteration #: 75000, f_theta = 952.4003845382832\n",
      "m = 1000, beta = 1, Iteration #: 80000, f_theta = 952.4003845382832\n",
      "m = 1000, beta = 1, Iteration #: 85000, f_theta = 952.4003845382832\n",
      "m = 1000, beta = 1, Iteration #: 90000, f_theta = 952.4003845382832\n",
      "m = 1000, beta = 1, Iteration #: 95000, f_theta = 952.4003845382832\n",
      "m = 1000, beta = 1, Iteration #: 100000, f_theta = 952.4003845382832\n",
      "m = 1000, beta = 1, Iteration #: 105000, f_theta = 952.4003845382832\n",
      "m = 1000, beta = 1, Iteration #: 110000, f_theta = 952.4003845382832\n",
      "m = 1000, beta = 1, Iteration #: 115000, f_theta = 952.4003845382832\n",
      "m = 1000, beta = 1, Iteration #: 120000, f_theta = 952.4003845382832\n",
      "\n",
      "----MSE IS: 0.0 ----\n",
      "\n",
      "m = 1250, beta = 1, Iteration #: 0, f_theta = 65691.00341092356\n",
      "m = 1250, beta = 1, Iteration #: 5000, f_theta = 11513.682930969695\n",
      "m = 1250, beta = 1, Iteration #: 10000, f_theta = 7651.815858529315\n",
      "m = 1250, beta = 1, Iteration #: 15000, f_theta = 5204.336782604178\n",
      "m = 1250, beta = 1, Iteration #: 20000, f_theta = 5204.336782604178\n",
      "m = 1250, beta = 1, Iteration #: 25000, f_theta = 5204.336782604178\n",
      "m = 1250, beta = 1, Iteration #: 30000, f_theta = 5207.017997949462\n",
      "m = 1250, beta = 1, Iteration #: 35000, f_theta = 3325.641547879577\n",
      "m = 1250, beta = 1, Iteration #: 40000, f_theta = 3325.641547879577\n",
      "m = 1250, beta = 1, Iteration #: 45000, f_theta = 3292.0934790532156\n",
      "m = 1250, beta = 1, Iteration #: 50000, f_theta = 3292.0934790532156\n",
      "m = 1250, beta = 1, Iteration #: 55000, f_theta = 3292.0934790532156\n",
      "m = 1250, beta = 1, Iteration #: 60000, f_theta = 3292.0934790532156\n",
      "m = 1250, beta = 1, Iteration #: 65000, f_theta = 3292.0934790532156\n",
      "m = 1250, beta = 1, Iteration #: 70000, f_theta = 3292.0934790532156\n",
      "m = 1250, beta = 1, Iteration #: 75000, f_theta = 1233.185983897983\n",
      "m = 1250, beta = 1, Iteration #: 80000, f_theta = 1233.185983897983\n",
      "m = 1250, beta = 1, Iteration #: 85000, f_theta = 1233.185983897983\n",
      "m = 1250, beta = 1, Iteration #: 90000, f_theta = 1233.185983897983\n",
      "m = 1250, beta = 1, Iteration #: 95000, f_theta = 1233.185983897983\n",
      "m = 1250, beta = 1, Iteration #: 100000, f_theta = 1233.185983897983\n",
      "m = 1250, beta = 1, Iteration #: 105000, f_theta = 1233.185983897983\n",
      "m = 1250, beta = 1, Iteration #: 110000, f_theta = 1233.185983897983\n",
      "m = 1250, beta = 1, Iteration #: 115000, f_theta = 1233.185983897983\n",
      "m = 1250, beta = 1, Iteration #: 120000, f_theta = 1233.185983897983\n",
      "\n",
      "----MSE IS: 0.0 ----\n",
      "\n",
      "m = 1500, beta = 1, Iteration #: 0, f_theta = 74946.18111611756\n",
      "m = 1500, beta = 1, Iteration #: 5000, f_theta = 16405.700660835042\n",
      "m = 1500, beta = 1, Iteration #: 10000, f_theta = 11636.350881336868\n",
      "m = 1500, beta = 1, Iteration #: 15000, f_theta = 10519.340640515267\n",
      "m = 1500, beta = 1, Iteration #: 20000, f_theta = 6533.789663814382\n",
      "m = 1500, beta = 1, Iteration #: 25000, f_theta = 6403.525686421093\n",
      "m = 1500, beta = 1, Iteration #: 30000, f_theta = 6299.169042212159\n",
      "m = 1500, beta = 1, Iteration #: 35000, f_theta = 6299.169042212159\n",
      "m = 1500, beta = 1, Iteration #: 40000, f_theta = 4040.8183905059395\n",
      "m = 1500, beta = 1, Iteration #: 45000, f_theta = 4040.8183905059395\n",
      "m = 1500, beta = 1, Iteration #: 50000, f_theta = 4038.6548801005056\n",
      "m = 1500, beta = 1, Iteration #: 55000, f_theta = 4038.6548801005056\n",
      "m = 1500, beta = 1, Iteration #: 60000, f_theta = 3979.322361379686\n",
      "m = 1500, beta = 1, Iteration #: 65000, f_theta = 3979.322361379686\n",
      "m = 1500, beta = 1, Iteration #: 70000, f_theta = 3979.322361379686\n",
      "m = 1500, beta = 1, Iteration #: 75000, f_theta = 3979.322361379686\n",
      "m = 1500, beta = 1, Iteration #: 80000, f_theta = 3979.322361379686\n",
      "m = 1500, beta = 1, Iteration #: 85000, f_theta = 3979.322361379686\n",
      "m = 1500, beta = 1, Iteration #: 90000, f_theta = 3979.322361379686\n",
      "m = 1500, beta = 1, Iteration #: 95000, f_theta = 1527.399951836845\n",
      "m = 1500, beta = 1, Iteration #: 100000, f_theta = 1527.399951836845\n",
      "m = 1500, beta = 1, Iteration #: 105000, f_theta = 1527.399951836845\n",
      "m = 1500, beta = 1, Iteration #: 110000, f_theta = 1527.399951836845\n",
      "m = 1500, beta = 1, Iteration #: 115000, f_theta = 1527.399951836845\n",
      "m = 1500, beta = 1, Iteration #: 120000, f_theta = 1527.399951836845\n",
      "m = 1500, beta = 1, Iteration #: 125000, f_theta = 1527.399951836845\n",
      "m = 1500, beta = 1, Iteration #: 130000, f_theta = 1527.399951836845\n",
      "m = 1500, beta = 1, Iteration #: 135000, f_theta = 1527.399951836845\n",
      "m = 1500, beta = 1, Iteration #: 140000, f_theta = 1527.399951836845\n",
      "\n",
      "----MSE IS: 0.0 ----\n",
      "\n",
      "m = 1750, beta = 1, Iteration #: 0, f_theta = 92843.49410817423\n",
      "m = 1750, beta = 1, Iteration #: 5000, f_theta = 29791.221997192795\n",
      "m = 1750, beta = 1, Iteration #: 10000, f_theta = 8062.056370628713\n",
      "m = 1750, beta = 1, Iteration #: 15000, f_theta = 7975.790360642822\n",
      "m = 1750, beta = 1, Iteration #: 20000, f_theta = 4901.44891116774\n",
      "m = 1750, beta = 1, Iteration #: 25000, f_theta = 1758.0911572489244\n",
      "m = 1750, beta = 1, Iteration #: 30000, f_theta = 1758.0911572489244\n",
      "m = 1750, beta = 1, Iteration #: 35000, f_theta = 1758.0911572489244\n",
      "m = 1750, beta = 1, Iteration #: 40000, f_theta = 1758.0911572489244\n",
      "m = 1750, beta = 1, Iteration #: 45000, f_theta = 1758.0911572489244\n",
      "m = 1750, beta = 1, Iteration #: 50000, f_theta = 1758.0911572489244\n",
      "m = 1750, beta = 1, Iteration #: 55000, f_theta = 1758.0911572489244\n",
      "m = 1750, beta = 1, Iteration #: 60000, f_theta = 1758.0911572489244\n",
      "m = 1750, beta = 1, Iteration #: 65000, f_theta = 1758.0911572489244\n",
      "m = 1750, beta = 1, Iteration #: 70000, f_theta = 1758.0911572489244\n",
      "\n",
      "----MSE IS: 0.0 ----\n",
      "\n",
      "m = 2000, beta = 1, Iteration #: 0, f_theta = 100431.09188426152\n",
      "m = 2000, beta = 1, Iteration #: 5000, f_theta = 28740.97429295681\n",
      "m = 2000, beta = 1, Iteration #: 10000, f_theta = 23808.26377271945\n",
      "m = 2000, beta = 1, Iteration #: 15000, f_theta = 12276.895657378343\n",
      "m = 2000, beta = 1, Iteration #: 20000, f_theta = 12196.525898138501\n",
      "m = 2000, beta = 1, Iteration #: 25000, f_theta = 8836.845525859182\n",
      "m = 2000, beta = 1, Iteration #: 30000, f_theta = 5542.801207696701\n",
      "m = 2000, beta = 1, Iteration #: 35000, f_theta = 5542.801207696701\n",
      "m = 2000, beta = 1, Iteration #: 40000, f_theta = 5387.888148111017\n",
      "m = 2000, beta = 1, Iteration #: 45000, f_theta = 5387.888148111017\n",
      "m = 2000, beta = 1, Iteration #: 50000, f_theta = 5368.947321238727\n",
      "m = 2000, beta = 1, Iteration #: 55000, f_theta = 5368.947321238727\n",
      "m = 2000, beta = 1, Iteration #: 60000, f_theta = 5368.947321238727\n",
      "m = 2000, beta = 1, Iteration #: 65000, f_theta = 5331.494964624885\n",
      "m = 2000, beta = 1, Iteration #: 70000, f_theta = 1959.2129543696083\n",
      "m = 2000, beta = 1, Iteration #: 75000, f_theta = 1959.2129543696083\n",
      "m = 2000, beta = 1, Iteration #: 80000, f_theta = 1959.2129543696083\n",
      "m = 2000, beta = 1, Iteration #: 85000, f_theta = 1959.2129543696083\n",
      "m = 2000, beta = 1, Iteration #: 90000, f_theta = 1959.2129543696083\n",
      "m = 2000, beta = 1, Iteration #: 95000, f_theta = 1959.2129543696083\n",
      "m = 2000, beta = 1, Iteration #: 100000, f_theta = 1959.2129543696083\n",
      "m = 2000, beta = 1, Iteration #: 105000, f_theta = 1959.2129543696083\n",
      "m = 2000, beta = 1, Iteration #: 110000, f_theta = 1959.2129543696083\n",
      "m = 2000, beta = 1, Iteration #: 115000, f_theta = 1959.2129543696083\n",
      "\n",
      "----MSE IS: 0.0 ----\n"
     ]
    }
   ],
   "source": [
    "for i, m in enumerate(all_m_list):\n",
    "    X = np.random.normal(0, 1, size=(m, d))\n",
    "    ksi = np.random.normal(0, sigma, size = m)\n",
    "    y = np.dot(X, theta_true) + ksi\n",
    "    theta_predicted = mh_2(X, theta_initial, y, beta, num_iter)\n",
    "    mse = mse_1_5(theta_true, theta_predicted)\n",
    "    print(\"\\n----MSE IS:\", mse, \"----\\n\")\n",
    "    mse_matrix_q2[i] = mse\n",
    "    "
   ],
   "metadata": {
    "collapsed": false,
    "ExecuteTime": {
     "end_time": "2023-12-01T01:13:51.822606700Z",
     "start_time": "2023-12-01T00:32:17.816035Z"
    }
   },
   "id": "e84d58df052870f3"
  },
  {
   "cell_type": "code",
   "execution_count": 95,
   "outputs": [
    {
     "data": {
      "text/plain": "array([1.008 , 0.9912, 0.9808, 0.9904, 0.9624, 0.9504, 0.8056, 0.7064,\n       0.6408, 0.508 , 0.46  , 0.0824, 0.    ])"
     },
     "execution_count": 95,
     "metadata": {},
     "output_type": "execute_result"
    }
   ],
   "source": [
    "mse_matrix_sa"
   ],
   "metadata": {
    "collapsed": false,
    "ExecuteTime": {
     "end_time": "2023-11-30T19:01:05.440225900Z",
     "start_time": "2023-11-30T19:01:05.315685900Z"
    }
   },
   "id": "a0bf538e8d4be342"
  },
  {
   "cell_type": "code",
   "execution_count": 19,
   "outputs": [],
   "source": [
    "mse_sa_df = pd.DataFrame(mse_matrix_q2, index = all_m_list, columns=['mse'])"
   ],
   "metadata": {
    "collapsed": false,
    "ExecuteTime": {
     "end_time": "2023-12-01T01:28:30.067992900Z",
     "start_time": "2023-12-01T01:28:29.921386900Z"
    }
   },
   "id": "c04f43a295c53867"
  },
  {
   "cell_type": "code",
   "execution_count": 20,
   "outputs": [
    {
     "data": {
      "text/plain": "         mse\n1     0.0400\n5     0.0384\n10    0.0384\n50    0.0384\n100   0.0384\n250   0.0000\n500   0.0000\n750   0.0000\n1000  0.0000\n1250  0.0000\n1500  0.0000\n1750  0.0000\n2000  0.0000",
      "text/html": "<div>\n<style scoped>\n    .dataframe tbody tr th:only-of-type {\n        vertical-align: middle;\n    }\n\n    .dataframe tbody tr th {\n        vertical-align: top;\n    }\n\n    .dataframe thead th {\n        text-align: right;\n    }\n</style>\n<table border=\"1\" class=\"dataframe\">\n  <thead>\n    <tr style=\"text-align: right;\">\n      <th></th>\n      <th>mse</th>\n    </tr>\n  </thead>\n  <tbody>\n    <tr>\n      <th>1</th>\n      <td>0.0400</td>\n    </tr>\n    <tr>\n      <th>5</th>\n      <td>0.0384</td>\n    </tr>\n    <tr>\n      <th>10</th>\n      <td>0.0384</td>\n    </tr>\n    <tr>\n      <th>50</th>\n      <td>0.0384</td>\n    </tr>\n    <tr>\n      <th>100</th>\n      <td>0.0384</td>\n    </tr>\n    <tr>\n      <th>250</th>\n      <td>0.0000</td>\n    </tr>\n    <tr>\n      <th>500</th>\n      <td>0.0000</td>\n    </tr>\n    <tr>\n      <th>750</th>\n      <td>0.0000</td>\n    </tr>\n    <tr>\n      <th>1000</th>\n      <td>0.0000</td>\n    </tr>\n    <tr>\n      <th>1250</th>\n      <td>0.0000</td>\n    </tr>\n    <tr>\n      <th>1500</th>\n      <td>0.0000</td>\n    </tr>\n    <tr>\n      <th>1750</th>\n      <td>0.0000</td>\n    </tr>\n    <tr>\n      <th>2000</th>\n      <td>0.0000</td>\n    </tr>\n  </tbody>\n</table>\n</div>"
     },
     "execution_count": 20,
     "metadata": {},
     "output_type": "execute_result"
    }
   ],
   "source": [
    "mse_sa_df"
   ],
   "metadata": {
    "collapsed": false,
    "ExecuteTime": {
     "end_time": "2023-12-01T01:28:33.675649200Z",
     "start_time": "2023-12-01T01:28:33.574243100Z"
    }
   },
   "id": "c436477908d8970d"
  },
  {
   "cell_type": "code",
   "execution_count": 21,
   "outputs": [],
   "source": [
    "mse_sa_df.to_pickle(\"ms_q2.pkl\")"
   ],
   "metadata": {
    "collapsed": false,
    "ExecuteTime": {
     "end_time": "2023-12-01T01:28:46.088880300Z",
     "start_time": "2023-12-01T01:28:46.001395500Z"
    }
   },
   "id": "94467e09293e9ec"
  },
  {
   "cell_type": "code",
   "execution_count": 8,
   "outputs": [
    {
     "data": {
      "text/plain": "         mse\n1     0.9632\n5     1.0000\n10    1.0048\n50    1.0128\n100   0.9520\n250   0.8896\n500   0.8136\n750   0.7216\n1000  0.5656\n1250  0.5088\n1500  0.3936\n1750  0.2648\n2000  0.0000",
      "text/html": "<div>\n<style scoped>\n    .dataframe tbody tr th:only-of-type {\n        vertical-align: middle;\n    }\n\n    .dataframe tbody tr th {\n        vertical-align: top;\n    }\n\n    .dataframe thead th {\n        text-align: right;\n    }\n</style>\n<table border=\"1\" class=\"dataframe\">\n  <thead>\n    <tr style=\"text-align: right;\">\n      <th></th>\n      <th>mse</th>\n    </tr>\n  </thead>\n  <tbody>\n    <tr>\n      <th>1</th>\n      <td>0.9632</td>\n    </tr>\n    <tr>\n      <th>5</th>\n      <td>1.0000</td>\n    </tr>\n    <tr>\n      <th>10</th>\n      <td>1.0048</td>\n    </tr>\n    <tr>\n      <th>50</th>\n      <td>1.0128</td>\n    </tr>\n    <tr>\n      <th>100</th>\n      <td>0.9520</td>\n    </tr>\n    <tr>\n      <th>250</th>\n      <td>0.8896</td>\n    </tr>\n    <tr>\n      <th>500</th>\n      <td>0.8136</td>\n    </tr>\n    <tr>\n      <th>750</th>\n      <td>0.7216</td>\n    </tr>\n    <tr>\n      <th>1000</th>\n      <td>0.5656</td>\n    </tr>\n    <tr>\n      <th>1250</th>\n      <td>0.5088</td>\n    </tr>\n    <tr>\n      <th>1500</th>\n      <td>0.3936</td>\n    </tr>\n    <tr>\n      <th>1750</th>\n      <td>0.2648</td>\n    </tr>\n    <tr>\n      <th>2000</th>\n      <td>0.0000</td>\n    </tr>\n  </tbody>\n</table>\n</div>"
     },
     "execution_count": 8,
     "metadata": {},
     "output_type": "execute_result"
    }
   ],
   "source": [
    "mse_sa_df"
   ],
   "metadata": {
    "collapsed": false,
    "ExecuteTime": {
     "end_time": "2023-12-01T00:24:04.126790300Z",
     "start_time": "2023-12-01T00:24:04.006111700Z"
    }
   },
   "id": "82de3439fbda2975"
  },
  {
   "cell_type": "code",
   "execution_count": 97,
   "outputs": [
    {
     "data": {
      "text/plain": "         mse\n1     1.0080\n5     0.9912\n10    0.9808\n50    0.9904\n100   0.9624\n250   0.9504\n500   0.8056\n750   0.7064\n1000  0.6408\n1250  0.5080\n1500  0.4600\n1750  0.0824\n2000  0.0000",
      "text/html": "<div>\n<style scoped>\n    .dataframe tbody tr th:only-of-type {\n        vertical-align: middle;\n    }\n\n    .dataframe tbody tr th {\n        vertical-align: top;\n    }\n\n    .dataframe thead th {\n        text-align: right;\n    }\n</style>\n<table border=\"1\" class=\"dataframe\">\n  <thead>\n    <tr style=\"text-align: right;\">\n      <th></th>\n      <th>mse</th>\n    </tr>\n  </thead>\n  <tbody>\n    <tr>\n      <th>1</th>\n      <td>1.0080</td>\n    </tr>\n    <tr>\n      <th>5</th>\n      <td>0.9912</td>\n    </tr>\n    <tr>\n      <th>10</th>\n      <td>0.9808</td>\n    </tr>\n    <tr>\n      <th>50</th>\n      <td>0.9904</td>\n    </tr>\n    <tr>\n      <th>100</th>\n      <td>0.9624</td>\n    </tr>\n    <tr>\n      <th>250</th>\n      <td>0.9504</td>\n    </tr>\n    <tr>\n      <th>500</th>\n      <td>0.8056</td>\n    </tr>\n    <tr>\n      <th>750</th>\n      <td>0.7064</td>\n    </tr>\n    <tr>\n      <th>1000</th>\n      <td>0.6408</td>\n    </tr>\n    <tr>\n      <th>1250</th>\n      <td>0.5080</td>\n    </tr>\n    <tr>\n      <th>1500</th>\n      <td>0.4600</td>\n    </tr>\n    <tr>\n      <th>1750</th>\n      <td>0.0824</td>\n    </tr>\n    <tr>\n      <th>2000</th>\n      <td>0.0000</td>\n    </tr>\n  </tbody>\n</table>\n</div>"
     },
     "execution_count": 97,
     "metadata": {},
     "output_type": "execute_result"
    }
   ],
   "source": [
    "mse_sa_df"
   ],
   "metadata": {
    "collapsed": false,
    "ExecuteTime": {
     "end_time": "2023-11-30T19:05:12.144532800Z",
     "start_time": "2023-11-30T19:05:12.050802100Z"
    }
   },
   "id": "233ac61cbc9c9bf0"
  },
  {
   "cell_type": "code",
   "execution_count": 98,
   "outputs": [],
   "source": [
    "mse_sa_df.to_pickle(\"sa_20.pkl\")"
   ],
   "metadata": {
    "collapsed": false,
    "ExecuteTime": {
     "end_time": "2023-11-30T19:06:43.966855Z",
     "start_time": "2023-11-30T19:06:43.870385400Z"
    }
   },
   "id": "da09b07cb78bf612"
  },
  {
   "cell_type": "code",
   "execution_count": 121,
   "outputs": [
    {
     "name": "stdout",
     "output_type": "stream",
     "text": [
      "Beta values: [0.0005, 0.0007296164014805424, 0.001064680186618832, 0.0015536162529769294, 0.002267087799557422, 0.003308208884307055, 0.004827446923028148, 0.0070443689046362275, 0.010279374181804229, 0.014999999999999994]\n",
      "e^2*b*m: [3.67879441e+01 2.32414514e+01 1.18913330e+01 4.47245592e+00\n",
      " 1.07357541e+00 1.33821617e-01 6.41110485e-03 7.60919848e-05\n",
      " 1.17882417e-07 9.35762297e-12]\n"
     ]
    }
   ],
   "source": [
    "m = 1000\n",
    "\n",
    "beta_start = 1 / (2 * m)\n",
    "beta_end = 30 / (2 * m)\n",
    "\n",
    "seq = geometric_sequence(beta_start, beta_end, 10)\n",
    "print(\"Beta values:\", seq)\n",
    "print(\"e^2*b*m:\", np.exp(-np.array(seq) * 2 * m) * 100)"
   ],
   "metadata": {
    "collapsed": false,
    "ExecuteTime": {
     "end_time": "2023-11-30T20:36:16.020494600Z",
     "start_time": "2023-11-30T20:36:15.929491200Z"
    }
   },
   "id": "36a19bc8ebcb42c3"
  },
  {
   "cell_type": "code",
   "execution_count": null,
   "outputs": [],
   "source": [],
   "metadata": {
    "collapsed": false
   },
   "id": "9efbc001d442da26"
  }
 ],
 "metadata": {
  "kernelspec": {
   "display_name": "Python 3",
   "language": "python",
   "name": "python3"
  },
  "language_info": {
   "codemirror_mode": {
    "name": "ipython",
    "version": 2
   },
   "file_extension": ".py",
   "mimetype": "text/x-python",
   "name": "python",
   "nbconvert_exporter": "python",
   "pygments_lexer": "ipython2",
   "version": "2.7.6"
  }
 },
 "nbformat": 4,
 "nbformat_minor": 5
}
