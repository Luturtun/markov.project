{
 "cells": [
  {
   "cell_type": "code",
   "execution_count": null,
   "id": "initial_id",
   "metadata": {
    "collapsed": true
   },
   "outputs": [],
   "source": [
    "from helpers import *\n",
    "%load_ext autoreload\n",
    "%autoreload 2"
   ]
  },
  {
   "cell_type": "markdown",
   "source": [
    "Experiment With Different Beta Values"
   ],
   "metadata": {
    "collapsed": false
   },
   "id": "23e0de40f32968e3"
  },
  {
   "cell_type": "code",
   "execution_count": 8,
   "outputs": [],
   "source": [
    "#Initialization\n",
    "m = 3000\n",
    "d = 2500\n",
    "beta = 1\n",
    "sigma = 1\n",
    "num_iter = 100*d\n",
    "np.random.seed(2)\n",
    "X = np.random.normal(0, 1, size=(m, d))\n",
    "ksi = np.random.normal(0, sigma, size = m)\n",
    "theta_true = np.random.randint(2, size = d)\n",
    "theta_initial = np.random.randint(2, size = d)\n",
    "y = np.dot(X, theta_true) + ksi"
   ],
   "metadata": {
    "collapsed": false,
    "ExecuteTime": {
     "end_time": "2023-12-04T09:30:05.817210900Z",
     "start_time": "2023-12-04T09:30:05.567211500Z"
    }
   },
   "id": "6a5e3e3db106dc23"
  },
  {
   "cell_type": "code",
   "execution_count": 9,
   "outputs": [],
   "source": [
    "all_m_list = np.linspace(1, 1000, 50).astype(int)\n",
    "all_beta_list = [0.001, 0.005, 0.01, 0.050, 0.1, 0.25, 0.50, 0.75, 1, 5]"
   ],
   "metadata": {
    "collapsed": false,
    "ExecuteTime": {
     "end_time": "2023-12-04T09:30:05.896102600Z",
     "start_time": "2023-12-04T09:30:05.817210900Z"
    }
   },
   "id": "96dd695dd5892196"
  },
  {
   "cell_type": "code",
   "execution_count": 10,
   "outputs": [],
   "source": [
    "mse_matrix_q1 = np.zeros((len(all_m_list), len(all_beta_list)))"
   ],
   "metadata": {
    "collapsed": false,
    "ExecuteTime": {
     "end_time": "2023-12-04T09:30:05.974243600Z",
     "start_time": "2023-12-04T09:30:05.896102600Z"
    }
   },
   "id": "d7e6db3dd20a3909"
  },
  {
   "cell_type": "code",
   "execution_count": null,
   "outputs": [],
   "source": [
    "for i, m in enumerate(all_m_list):\n",
    "    X = np.random.normal(0, 1, size=(m, d))\n",
    "    ksi = np.random.normal(0, sigma, size = m)\n",
    "    y = np.dot(X, theta_true) + ksi\n",
    "    for j, beta in enumerate(all_beta_list):  \n",
    "        theta_predicted = mh_1(X, theta_initial, y, beta, num_iter)\n",
    "        mse = mse_1(theta_true, theta_predicted)\n",
    "        print(\"\\n----MSE IS:\", mse, \"----\\n\")\n",
    "        mse_matrix_q1[i][j] = mse"
   ],
   "metadata": {
    "collapsed": false
   },
   "id": "b96b0cd4e35ea734"
  },
  {
   "cell_type": "markdown",
   "source": [
    "Simulated Annealing"
   ],
   "metadata": {
    "collapsed": false
   },
   "id": "620d3670c43f63b0"
  },
  {
   "cell_type": "code",
   "execution_count": null,
   "outputs": [],
   "source": [
    "mse_matrix_sa = np.zeros(len(all_m_list))"
   ],
   "metadata": {
    "collapsed": false,
    "ExecuteTime": {
     "end_time": "2023-12-04T09:30:08.379584100Z",
     "start_time": "2023-12-04T09:30:08.379584100Z"
    }
   },
   "id": "4d4efcd75fa18742"
  },
  {
   "cell_type": "code",
   "execution_count": null,
   "outputs": [],
   "source": [
    "for i, m in enumerate(all_m_list):\n",
    "    X = np.random.normal(0, 1, size=(m, d))\n",
    "    ksi = np.random.normal(0, sigma, size = m)\n",
    "    y = np.dot(X, theta_true) + ksi\n",
    "    theta_predicted = simulated_annealing_mh_1(X, theta_initial, y, beta_2m_start=1, beta_2m_end=30, seq_length =100, num_iter=num_iter)\n",
    "    mse = mse_1(theta_true, theta_predicted)\n",
    "    print(\"\\n----MSE IS:\", mse, \"----\\n\")\n",
    "    mse_matrix_sa[i] = mse"
   ],
   "metadata": {
    "collapsed": false
   },
   "id": "903cc7e548fa8017"
  }
 ],
 "metadata": {
  "kernelspec": {
   "display_name": "Python 3",
   "language": "python",
   "name": "python3"
  },
  "language_info": {
   "codemirror_mode": {
    "name": "ipython",
    "version": 2
   },
   "file_extension": ".py",
   "mimetype": "text/x-python",
   "name": "python",
   "nbconvert_exporter": "python",
   "pygments_lexer": "ipython2",
   "version": "2.7.6"
  }
 },
 "nbformat": 4,
 "nbformat_minor": 5
}
