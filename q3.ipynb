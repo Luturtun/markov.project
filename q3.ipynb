{
 "cells": [
  {
   "cell_type": "code",
   "execution_count": 79,
   "id": "initial_id",
   "metadata": {
    "collapsed": true,
    "ExecuteTime": {
     "end_time": "2023-12-02T00:50:29.746728600Z",
     "start_time": "2023-12-02T00:50:29.577180500Z"
    }
   },
   "outputs": [
    {
     "name": "stdout",
     "output_type": "stream",
     "text": [
      "The autoreload extension is already loaded. To reload it, use:\n",
      "  %reload_ext autoreload\n"
     ]
    }
   ],
   "source": [
    "import random\n",
    "import numpy as np\n",
    "from helpers import *\n",
    "import pandas as pd\n",
    "%load_ext autoreload\n",
    "%autoreload 2"
   ]
  },
  {
   "cell_type": "markdown",
   "source": [
    "TASK 3.2"
   ],
   "metadata": {
    "collapsed": false
   },
   "id": "23e0de40f32968e3"
  },
  {
   "cell_type": "code",
   "execution_count": 80,
   "outputs": [],
   "source": [
    "#Initialization\n",
    "d = 1000\n",
    "beta = 1\n",
    "sigma = 1\n",
    "num_iter = 100*d\n",
    "np.random.seed(2)\n",
    "\n",
    "# Create a vector with d/100 non-zero values\n",
    "num_non_zero = d // 100\n",
    "theta_true = np.zeros(d)\n",
    "theta_true[:num_non_zero] = 1\n",
    "\n",
    "theta_initial = np.zeros(d)\n",
    "theta_initial[:num_non_zero] = 1\n",
    "\n",
    "# Shuffle the array to randomize the positions of the non-zero values\n",
    "np.random.shuffle(theta_true)\n",
    "np.random.shuffle(theta_initial)"
   ],
   "metadata": {
    "collapsed": false,
    "ExecuteTime": {
     "end_time": "2023-12-02T00:50:30.522269900Z",
     "start_time": "2023-12-02T00:50:30.298691700Z"
    }
   },
   "id": "6a5e3e3db106dc23"
  },
  {
   "cell_type": "code",
   "execution_count": 81,
   "outputs": [],
   "source": [
    "all_m_list = np.linspace(1, 301, 31).astype(int)\n",
    "all_m_list = all_m_list[20:26]\n",
    "all_beta_list = [0.001, 0.005, 0.010, 0.050, 0.1, 0.25, 0.50, 0.75, 1, 5]"
   ],
   "metadata": {
    "collapsed": false,
    "ExecuteTime": {
     "end_time": "2023-12-02T00:50:31.003006800Z",
     "start_time": "2023-12-02T00:50:30.863872700Z"
    }
   },
   "id": "3a490f6256e6bc99"
  },
  {
   "cell_type": "code",
   "execution_count": 82,
   "outputs": [],
   "source": [
    "mse_matrix_q2 = np.zeros((len(all_m_list), len(all_beta_list)))"
   ],
   "metadata": {
    "collapsed": false,
    "ExecuteTime": {
     "end_time": "2023-12-02T00:50:31.463755400Z",
     "start_time": "2023-12-02T00:50:31.293811300Z"
    }
   },
   "id": "96dd695dd5892196"
  },
  {
   "cell_type": "code",
   "execution_count": 83,
   "outputs": [
    {
     "name": "stdout",
     "output_type": "stream",
     "text": [
      "m = 250, beta = 0.5, Iteration #: 0, f_theta = 491.51473551610593\n",
      "m = 250, beta = 0.5, Iteration #: 5000, f_theta = -46.2561230108856\n",
      "m = 250, beta = 0.5, Iteration #: 10000, f_theta = -85.54205111291333\n",
      "m = 250, beta = 0.5, Iteration #: 15000, f_theta = -85.54205111291333\n",
      "m = 250, beta = 0.5, Iteration #: 20000, f_theta = -85.54205111291333\n",
      "m = 250, beta = 0.5, Iteration #: 25000, f_theta = -117.10057304186057\n",
      "m = 250, beta = 0.5, Iteration #: 30000, f_theta = -117.10057304186057\n",
      "m = 250, beta = 0.5, Iteration #: 35000, f_theta = -117.10057304186057\n",
      "m = 250, beta = 0.5, Iteration #: 40000, f_theta = -117.10057304186057\n",
      "m = 250, beta = 0.5, Iteration #: 45000, f_theta = -117.10057304186057\n",
      "m = 250, beta = 0.5, Iteration #: 50000, f_theta = -117.10057304186057\n",
      "m = 250, beta = 0.5, Iteration #: 55000, f_theta = -117.10057304186057\n",
      "m = 250, beta = 0.5, Iteration #: 60000, f_theta = -117.10057304186057\n",
      "m = 250, beta = 0.5, Iteration #: 65000, f_theta = -117.10057304186057\n",
      "m = 250, beta = 0.5, Iteration #: 70000, f_theta = -117.10057304186057\n",
      "\n",
      "----MSE IS: 0.0 ----\n"
     ]
    }
   ],
   "source": [
    "for i, m in enumerate([250]):\n",
    "    for j, beta in enumerate([0.5]):  \n",
    "        X = np.random.normal(0, 1, size=(m, d))\n",
    "        ksi = np.random.normal(0, sigma, size = m)\n",
    "        y = np.dot(X, theta_true) + ksi\n",
    "        y = np.sign(y) + (y == 0)\n",
    "        theta_predicted = mh_3(X, theta_initial, y, beta, num_iter)\n",
    "        mse = mse_1_5(theta_true, theta_predicted)\n",
    "        print(\"\\n----MSE IS:\", mse, \"----\\n\")\n",
    "        mse_matrix_q2[i][j] = mse\n",
    "    "
   ],
   "metadata": {
    "collapsed": false,
    "ExecuteTime": {
     "end_time": "2023-12-02T00:51:02.716006800Z",
     "start_time": "2023-12-02T00:50:31.709563200Z"
    }
   },
   "id": "e84d58df052870f3"
  },
  {
   "cell_type": "code",
   "execution_count": 53,
   "outputs": [],
   "source": [
    "mse_matrix_q2 = pd.DataFrame(mse_matrix_q2, index = all_m_list, columns=all_beta_list)"
   ],
   "metadata": {
    "collapsed": false,
    "ExecuteTime": {
     "end_time": "2023-12-01T22:47:34.269200Z",
     "start_time": "2023-12-01T22:47:34.076659800Z"
    }
   },
   "id": "c04f43a295c53867"
  },
  {
   "cell_type": "code",
   "execution_count": 54,
   "outputs": [
    {
     "data": {
      "text/plain": "      0.001   0.005   0.010  0.050   0.100   0.250   0.500   0.750   1.000  \\\n201  0.0384  0.0352  0.0368    0.0  0.0288  0.0000  0.0192  0.0272  0.0000   \n211  0.0400  0.0368  0.0336    0.0  0.0000  0.0272  0.0016  0.0000  0.0208   \n221  0.0400  0.0400  0.0352    0.0  0.0000  0.0176  0.0000  0.0000  0.0288   \n231  0.0384  0.0352  0.0336    0.0  0.0000  0.0000  0.0000  0.0016  0.0000   \n241  0.0384  0.0336  0.0352    0.0  0.0000  0.0000  0.0000  0.0000  0.0000   \n251  0.0400  0.0368  0.0336    0.0  0.0000  0.0000  0.0000  0.0000  0.0000   \n\n      5.000  \n201  0.0000  \n211  0.0016  \n221  0.0000  \n231  0.0128  \n241  0.0224  \n251  0.0000  ",
      "text/html": "<div>\n<style scoped>\n    .dataframe tbody tr th:only-of-type {\n        vertical-align: middle;\n    }\n\n    .dataframe tbody tr th {\n        vertical-align: top;\n    }\n\n    .dataframe thead th {\n        text-align: right;\n    }\n</style>\n<table border=\"1\" class=\"dataframe\">\n  <thead>\n    <tr style=\"text-align: right;\">\n      <th></th>\n      <th>0.001</th>\n      <th>0.005</th>\n      <th>0.010</th>\n      <th>0.050</th>\n      <th>0.100</th>\n      <th>0.250</th>\n      <th>0.500</th>\n      <th>0.750</th>\n      <th>1.000</th>\n      <th>5.000</th>\n    </tr>\n  </thead>\n  <tbody>\n    <tr>\n      <th>201</th>\n      <td>0.0384</td>\n      <td>0.0352</td>\n      <td>0.0368</td>\n      <td>0.0</td>\n      <td>0.0288</td>\n      <td>0.0000</td>\n      <td>0.0192</td>\n      <td>0.0272</td>\n      <td>0.0000</td>\n      <td>0.0000</td>\n    </tr>\n    <tr>\n      <th>211</th>\n      <td>0.0400</td>\n      <td>0.0368</td>\n      <td>0.0336</td>\n      <td>0.0</td>\n      <td>0.0000</td>\n      <td>0.0272</td>\n      <td>0.0016</td>\n      <td>0.0000</td>\n      <td>0.0208</td>\n      <td>0.0016</td>\n    </tr>\n    <tr>\n      <th>221</th>\n      <td>0.0400</td>\n      <td>0.0400</td>\n      <td>0.0352</td>\n      <td>0.0</td>\n      <td>0.0000</td>\n      <td>0.0176</td>\n      <td>0.0000</td>\n      <td>0.0000</td>\n      <td>0.0288</td>\n      <td>0.0000</td>\n    </tr>\n    <tr>\n      <th>231</th>\n      <td>0.0384</td>\n      <td>0.0352</td>\n      <td>0.0336</td>\n      <td>0.0</td>\n      <td>0.0000</td>\n      <td>0.0000</td>\n      <td>0.0000</td>\n      <td>0.0016</td>\n      <td>0.0000</td>\n      <td>0.0128</td>\n    </tr>\n    <tr>\n      <th>241</th>\n      <td>0.0384</td>\n      <td>0.0336</td>\n      <td>0.0352</td>\n      <td>0.0</td>\n      <td>0.0000</td>\n      <td>0.0000</td>\n      <td>0.0000</td>\n      <td>0.0000</td>\n      <td>0.0000</td>\n      <td>0.0224</td>\n    </tr>\n    <tr>\n      <th>251</th>\n      <td>0.0400</td>\n      <td>0.0368</td>\n      <td>0.0336</td>\n      <td>0.0</td>\n      <td>0.0000</td>\n      <td>0.0000</td>\n      <td>0.0000</td>\n      <td>0.0000</td>\n      <td>0.0000</td>\n      <td>0.0000</td>\n    </tr>\n  </tbody>\n</table>\n</div>"
     },
     "execution_count": 54,
     "metadata": {},
     "output_type": "execute_result"
    }
   ],
   "source": [
    "mse_matrix_q2"
   ],
   "metadata": {
    "collapsed": false,
    "ExecuteTime": {
     "end_time": "2023-12-01T22:47:36.327522900Z",
     "start_time": "2023-12-01T22:47:36.195840400Z"
    }
   },
   "id": "c436477908d8970d"
  },
  {
   "cell_type": "code",
   "execution_count": 55,
   "outputs": [],
   "source": [
    "mse_matrix_q2.to_pickle(\"ms_q2.pkl\")"
   ],
   "metadata": {
    "collapsed": false,
    "ExecuteTime": {
     "end_time": "2023-12-01T22:54:22.408039200Z",
     "start_time": "2023-12-01T22:54:22.260258600Z"
    }
   },
   "id": "94467e09293e9ec"
  },
  {
   "cell_type": "code",
   "execution_count": null,
   "outputs": [],
   "source": [],
   "metadata": {
    "collapsed": false
   },
   "id": "69fb8b9b1f8516ac"
  }
 ],
 "metadata": {
  "kernelspec": {
   "display_name": "Python 3",
   "language": "python",
   "name": "python3"
  },
  "language_info": {
   "codemirror_mode": {
    "name": "ipython",
    "version": 2
   },
   "file_extension": ".py",
   "mimetype": "text/x-python",
   "name": "python",
   "nbconvert_exporter": "python",
   "pygments_lexer": "ipython2",
   "version": "2.7.6"
  }
 },
 "nbformat": 4,
 "nbformat_minor": 5
}
