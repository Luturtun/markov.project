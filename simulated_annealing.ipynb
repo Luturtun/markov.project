{
 "cells": [
  {
   "cell_type": "code",
   "execution_count": 11,
   "id": "initial_id",
   "metadata": {
    "collapsed": true,
    "ExecuteTime": {
     "end_time": "2023-12-02T17:04:53.711548Z",
     "start_time": "2023-12-02T17:04:53.557486300Z"
    }
   },
   "outputs": [
    {
     "name": "stdout",
     "output_type": "stream",
     "text": [
      "The autoreload extension is already loaded. To reload it, use:\n",
      "  %reload_ext autoreload\n"
     ]
    }
   ],
   "source": [
    "import random\n",
    "import numpy as np\n",
    "from helpers import *\n",
    "import pandas as pd\n",
    "%load_ext autoreload\n",
    "%autoreload 2"
   ]
  },
  {
   "cell_type": "code",
   "execution_count": 12,
   "outputs": [],
   "source": [
    "#Initialization\n",
    "m = 3000\n",
    "d = 2500\n",
    "beta = 1\n",
    "sigma = 1\n",
    "num_iter = 100*d\n",
    "np.random.seed(2)\n",
    "theta_true = np.random.randint(2, size = d)\n",
    "theta_initial = np.random.randint(2, size = d)"
   ],
   "metadata": {
    "collapsed": false,
    "ExecuteTime": {
     "end_time": "2023-12-02T17:04:54.148325700Z",
     "start_time": "2023-12-02T17:04:54.030188700Z"
    }
   },
   "id": "739268dda740474d"
  },
  {
   "cell_type": "code",
   "execution_count": 13,
   "outputs": [],
   "source": [
    "mse_matrix_all = pd.read_pickle(\"mse_matrix_all_2.pkl\")\n",
    "all_m_list = mse_matrix_all.index.tolist()[:-9]"
   ],
   "metadata": {
    "collapsed": false,
    "ExecuteTime": {
     "end_time": "2023-12-02T17:04:54.973938100Z",
     "start_time": "2023-12-02T17:04:54.865907300Z"
    }
   },
   "id": "bbf2601192d9ec4b"
  },
  {
   "cell_type": "code",
   "execution_count": 15,
   "outputs": [],
   "source": [
    "mse_matrix_sa = np.zeros(len([1825, 1950]))"
   ],
   "metadata": {
    "collapsed": false,
    "ExecuteTime": {
     "end_time": "2023-12-02T17:05:02.209268500Z",
     "start_time": "2023-12-02T17:05:02.115017500Z"
    }
   },
   "id": "6e01800d0231f6bf"
  },
  {
   "cell_type": "code",
   "execution_count": 16,
   "outputs": [
    {
     "name": "stdout",
     "output_type": "stream",
     "text": [
      "m = 1825, beta = 0.000273972602739726, Iteration #: 0, f_theta = 2388267.1226400393\n",
      "m = 1825, beta = 0.0002934593619669497, Iteration #: 5000, f_theta = 1348198.454332259\n",
      "m = 1825, beta = 0.00031433214951007973, Iteration #: 10000, f_theta = 1210272.0835716042\n",
      "m = 1825, beta = 0.00033668954894938664, Iteration #: 15000, f_theta = 1264152.3808720657\n",
      "m = 1825, beta = 0.00036063715578703895, Iteration #: 20000, f_theta = 1153667.4917021317\n",
      "m = 1825, beta = 0.0003862880761817657, Iteration #: 25000, f_theta = 1123082.5630801274\n",
      "m = 1825, beta = 0.00041376346115685623, Iteration #: 30000, f_theta = 1065974.6620758716\n",
      "m = 1825, beta = 0.00044319307880459657, Iteration #: 35000, f_theta = 1031018.3187042847\n",
      "m = 1825, beta = 0.00047471592718970225, Iteration #: 40000, f_theta = 924534.4999648025\n",
      "m = 1825, beta = 0.0005084808908465323, Iteration #: 45000, f_theta = 972869.6234865139\n",
      "m = 1825, beta = 0.000544647443970765, Iteration #: 50000, f_theta = 964859.3097179878\n",
      "m = 1825, beta = 0.0005833864036267561, Iteration #: 55000, f_theta = 883051.9556278904\n",
      "m = 1825, beta = 0.0006248807365280296, Iteration #: 60000, f_theta = 819985.3690204904\n",
      "m = 1825, beta = 0.0006693264232013792, Iteration #: 65000, f_theta = 794907.7530781716\n",
      "m = 1825, beta = 0.0007169333836160854, Iteration #: 70000, f_theta = 745673.1471862751\n",
      "m = 1825, beta = 0.0007679264686500574, Iteration #: 75000, f_theta = 705803.6633314688\n",
      "m = 1825, beta = 0.0008225465220756622, Iteration #: 80000, f_theta = 733018.5546539736\n",
      "m = 1825, beta = 0.0008810515180810695, Iteration #: 85000, f_theta = 682248.2803947588\n",
      "m = 1825, beta = 0.0009437177796997034, Iteration #: 90000, f_theta = 588787.6696519593\n",
      "m = 1825, beta = 0.0010108412839025262, Iteration #: 95000, f_theta = 570178.5548045756\n",
      "m = 1825, beta = 0.00108273905951719, Iteration #: 100000, f_theta = 534384.2949279419\n",
      "m = 1825, beta = 0.0011597506845765259, Iteration #: 105000, f_theta = 530965.2697086692\n",
      "m = 1825, beta = 0.0012422398901684457, Iteration #: 110000, f_theta = 509018.85846560413\n",
      "m = 1825, beta = 0.001330596278362349, Iteration #: 115000, f_theta = 498500.2622456982\n",
      "m = 1825, beta = 0.001425237162325917, Iteration #: 120000, f_theta = 424203.49711679714\n",
      "m = 1825, beta = 0.001526609537323286, Iteration #: 125000, f_theta = 415919.83673613355\n",
      "m = 1825, beta = 0.0016351921919037645, Iteration #: 130000, f_theta = 390260.07538443693\n",
      "m = 1825, beta = 0.0017514979692523714, Iteration #: 135000, f_theta = 380113.4600005176\n",
      "m = 1825, beta = 0.0018760761893827132, Iteration #: 140000, f_theta = 351662.81222793204\n",
      "m = 1825, beta = 0.0020095152436123763, Iteration #: 145000, f_theta = 341888.69829976384\n",
      "m = 1825, beta = 0.0021524453735747187, Iteration #: 150000, f_theta = 324937.64719239605\n",
      "m = 1825, beta = 0.002305541647892517, Iteration #: 155000, f_theta = 288176.9096947629\n",
      "m = 1825, beta = 0.002469527150572503, Iteration #: 160000, f_theta = 276111.50603364455\n",
      "m = 1825, beta = 0.0026451763961797916, Iteration #: 165000, f_theta = 280216.41491089057\n",
      "m = 1825, beta = 0.0028333189879222935, Iteration #: 170000, f_theta = 249617.15932085528\n",
      "m = 1825, beta = 0.003034843535922498, Iteration #: 175000, f_theta = 228851.90729049905\n",
      "m = 1825, beta = 0.0032507018541828837, Iteration #: 180000, f_theta = 210688.93719331603\n",
      "m = 1825, beta = 0.0034819134560675077, Iteration #: 185000, f_theta = 211814.7871635196\n",
      "m = 1825, beta = 0.003729570369532233, Iteration #: 190000, f_theta = 206613.0754224224\n",
      "m = 1825, beta = 0.003994842294846261, Iteration #: 195000, f_theta = 176525.58573276692\n",
      "m = 1825, beta = 0.004278982129165217, Iteration #: 200000, f_theta = 159384.0603253733\n",
      "m = 1825, beta = 0.004583331884048738, Iteration #: 205000, f_theta = 129426.38300288301\n",
      "m = 1825, beta = 0.004909329023871379, Iteration #: 210000, f_theta = 100320.03275709492\n",
      "m = 1825, beta = 0.0052585132550636, Iteration #: 215000, f_theta = 39988.61032084684\n",
      "m = 1825, beta = 0.005632533798248849, Iteration #: 220000, f_theta = 10857.91309559612\n",
      "m = 1825, beta = 0.006033157177623564, Iteration #: 225000, f_theta = 5569.0070170106155\n",
      "m = 1825, beta = 0.006462275564369831, Iteration #: 230000, f_theta = 1784.9393202925085\n",
      "m = 1825, beta = 0.006921915713507219, Iteration #: 235000, f_theta = 1784.9393202925085\n",
      "m = 1825, beta = 0.007414248536393139, Iteration #: 240000, f_theta = 1784.9393202925085\n",
      "m = 1825, beta = 0.007941599354083274, Iteration #: 245000, f_theta = 1784.9393202925085\n",
      "\n",
      "----MSE IS: 0.0 ----\n",
      "\n",
      "m = 1950, beta = 0.0002564102564102564, Iteration #: 0, f_theta = 2497802.344993883\n",
      "m = 1950, beta = 0.0002746478644049658, Iteration #: 5000, f_theta = 1378277.356480984\n",
      "m = 1950, beta = 0.0002941826527466131, Iteration #: 10000, f_theta = 1388023.439446555\n",
      "m = 1950, beta = 0.0003151068855551952, Iteration #: 15000, f_theta = 1302477.9010919193\n",
      "m = 1950, beta = 0.0003375193893904339, Iteration #: 20000, f_theta = 1285999.875750886\n",
      "m = 1950, beta = 0.00036152602001626787, Iteration #: 25000, f_theta = 1175200.5027944536\n",
      "m = 1950, beta = 0.00038724016236475013, Iteration #: 30000, f_theta = 1127193.732422404\n",
      "m = 1950, beta = 0.0004147832660607122, Iteration #: 35000, f_theta = 1159934.9057206106\n",
      "m = 1950, beta = 0.00044428541903651625, Iteration #: 40000, f_theta = 1093332.6255403804\n",
      "m = 1950, beta = 0.00047588596194611364, Iteration #: 45000, f_theta = 1012831.4410264015\n",
      "m = 1950, beta = 0.0005097341462803315, Iteration #: 50000, f_theta = 955103.352736313\n",
      "m = 1950, beta = 0.0005459898392917077, Iteration #: 55000, f_theta = 1000921.2698851421\n",
      "m = 1950, beta = 0.0005848242790582842, Iteration #: 60000, f_theta = 899416.5613125432\n",
      "m = 1950, beta = 0.000626420883252573, Iteration #: 65000, f_theta = 842130.8675267058\n",
      "m = 1950, beta = 0.0006709761154355671, Iteration #: 70000, f_theta = 852154.1960651504\n",
      "m = 1950, beta = 0.0007187004129673614, Iteration #: 75000, f_theta = 800323.1543523269\n",
      "m = 1950, beta = 0.0007698191809169659, Iteration #: 80000, f_theta = 720016.5199352845\n",
      "m = 1950, beta = 0.0008245738566656164, Iteration #: 85000, f_theta = 733817.6232552475\n",
      "m = 1950, beta = 0.0008832230502317737, Iteration #: 90000, f_theta = 715636.2955708322\n",
      "m = 1950, beta = 0.0009460437657036464, Iteration #: 95000, f_theta = 645718.5871428042\n",
      "m = 1950, beta = 0.0010133327095481395, Iteration #: 100000, f_theta = 623413.7752318666\n",
      "m = 1950, beta = 0.0010854076919754665, Iteration #: 105000, f_theta = 643926.992763662\n",
      "m = 1950, beta = 0.0011626091279781608, Iteration #: 110000, f_theta = 544763.5076036837\n",
      "m = 1950, beta = 0.0012453016451339936, Iteration #: 115000, f_theta = 532647.1727841687\n",
      "m = 1950, beta = 0.0013338758057665635, Iteration #: 120000, f_theta = 500167.4800798265\n",
      "m = 1950, beta = 0.0014287499515974345, Iteration #: 125000, f_theta = 475210.366430523\n",
      "m = 1950, beta = 0.0015303721796022414, Iteration #: 130000, f_theta = 459270.2714900336\n",
      "m = 1950, beta = 0.0016392224584028605, Iteration #: 135000, f_theta = 409983.1594331466\n",
      "m = 1950, beta = 0.0017558148951915137, Iteration #: 140000, f_theta = 393342.8502269756\n",
      "m = 1950, beta = 0.0018807001638936345, Iteration #: 145000, f_theta = 378689.703668016\n",
      "m = 1950, beta = 0.002014468106037878, Iteration #: 150000, f_theta = 336215.8398782002\n",
      "m = 1950, beta = 0.0021577505166173556, Iteration #: 155000, f_theta = 333308.4868980374\n",
      "m = 1950, beta = 0.0023112241280999067, Iteration #: 160000, f_theta = 317100.9311819427\n",
      "m = 1950, beta = 0.002475613806681087, Iteration #: 165000, f_theta = 293598.5247221894\n",
      "m = 1950, beta = 0.0026516959758759928, Iteration #: 170000, f_theta = 271120.36246801825\n",
      "m = 1950, beta = 0.002840302283619774, Iteration #: 175000, f_theta = 254484.55973560418\n",
      "m = 1950, beta = 0.003042323530196802, Iteration #: 180000, f_theta = 207617.6443832054\n",
      "m = 1950, beta = 0.00325871387555036, Iteration #: 185000, f_theta = 181245.22243770317\n",
      "m = 1950, beta = 0.0034904953458442696, Iteration #: 190000, f_theta = 157398.3627545404\n",
      "m = 1950, beta = 0.0037387626605612442, Iteration #: 195000, f_theta = 125385.00163938539\n",
      "m = 1950, beta = 0.004004688402936678, Iteration #: 200000, f_theta = 56762.348139422786\n",
      "m = 1950, beta = 0.004289528558148179, Iteration #: 205000, f_theta = 26266.920329865927\n",
      "m = 1950, beta = 0.004594628445418086, Iteration #: 210000, f_theta = 5992.541268792469\n",
      "m = 1950, beta = 0.0049214290720467025, Iteration #: 215000, f_theta = 3777.3795923791563\n",
      "m = 1950, beta = 0.005271473939386744, Iteration #: 220000, f_theta = 1939.4654425633053\n",
      "m = 1950, beta = 0.005646416332904106, Iteration #: 225000, f_theta = 1939.4654425633053\n",
      "m = 1950, beta = 0.006048027130756381, Iteration #: 230000, f_theta = 1939.4654425633053\n",
      "m = 1950, beta = 0.006478203167769578, Iteration #: 235000, f_theta = 1939.4654425633053\n",
      "m = 1950, beta = 0.006938976194316656, Iteration #: 240000, f_theta = 1939.4654425633053\n",
      "m = 1950, beta = 0.007432522472411269, Iteration #: 245000, f_theta = 1939.4654425633053\n",
      "\n",
      "----MSE IS: 0.0 ----\n"
     ]
    }
   ],
   "source": [
    "for i, m in enumerate([1825, 1950]):\n",
    "    X = np.random.normal(0, 1, size=(m, d))\n",
    "    ksi = np.random.normal(0, sigma, size = m)\n",
    "    y = np.dot(X, theta_true) + ksi\n",
    "    theta_predicted = simulated_annealing(X, theta_initial, y, beta_2m_start=1, beta_2m_end=30, seq_length =100, num_iter=num_iter)\n",
    "    mse = mse_1_5(theta_true, theta_predicted)\n",
    "    print(\"\\n----MSE IS:\", mse, \"----\\n\")\n",
    "    mse_matrix_sa[i] = mse\n",
    "    "
   ],
   "metadata": {
    "collapsed": false,
    "ExecuteTime": {
     "end_time": "2023-12-02T17:34:39.907813200Z",
     "start_time": "2023-12-02T17:05:02.895902Z"
    }
   },
   "id": "7006d91ee9d2a4bf"
  },
  {
   "cell_type": "code",
   "execution_count": null,
   "outputs": [],
   "source": [],
   "metadata": {
    "collapsed": false
   },
   "id": "c14c7518410deb99"
  }
 ],
 "metadata": {
  "kernelspec": {
   "display_name": "Python 3",
   "language": "python",
   "name": "python3"
  },
  "language_info": {
   "codemirror_mode": {
    "name": "ipython",
    "version": 2
   },
   "file_extension": ".py",
   "mimetype": "text/x-python",
   "name": "python",
   "nbconvert_exporter": "python",
   "pygments_lexer": "ipython2",
   "version": "2.7.6"
  }
 },
 "nbformat": 4,
 "nbformat_minor": 5
}
